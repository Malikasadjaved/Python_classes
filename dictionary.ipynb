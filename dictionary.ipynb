{
  "nbformat": 4,
  "nbformat_minor": 0,
  "metadata": {
    "colab": {
      "provenance": [],
      "authorship_tag": "ABX9TyMXWrj9nSkYuR2d/8qwDIrL",
      "include_colab_link": true
    },
    "kernelspec": {
      "name": "python3",
      "display_name": "Python 3"
    },
    "language_info": {
      "name": "python"
    }
  },
  "cells": [
    {
      "cell_type": "markdown",
      "metadata": {
        "id": "view-in-github",
        "colab_type": "text"
      },
      "source": [
        "<a href=\"https://colab.research.google.com/github/Malikasadjaved/Python_classes/blob/main/dictionary.ipynb\" target=\"_parent\"><img src=\"https://colab.research.google.com/assets/colab-badge.svg\" alt=\"Open In Colab\"/></a>"
      ]
    },
    {
      "cell_type": "markdown",
      "source": [
        "# data types\n",
        "PREMITIVE\n",
        "INT\n",
        "FLOOT\n",
        "STR\n",
        "BOOL\n",
        "\n",
        "list IS COLLECTION OF ELEMENTS\n",
        "TUPELS\n",
        "DICTIONARY\n"
      ],
      "metadata": {
        "id": "t7cdvwoD4gZS"
      }
    },
    {
      "cell_type": "code",
      "execution_count": null,
      "metadata": {
        "id": "jxhDfQwW4fo9"
      },
      "outputs": [],
      "source": [
        "student_1= \"rehan\"\n",
        "student_2= \"usman\"\n",
        "student_names=[\"rehan\",\"usman\",30]\n",
        "student_name=[\"rehan\",\"musa\"]\n",
        "students_grades=[90,96]\n",
        "\n"
      ]
    },
    {
      "cell_type": "markdown",
      "source": [
        "dictionary\n",
        "-key or value ka  pair hoga\n",
        "-key  will be uniqe  {asad : 90,ali:20,shah:90}  first {key: value ,key: value }\n",
        "all immuteable data types mo hum keys bna sakty hai str,int,tuple, q keh immuteable value change nhi hoti\n",
        "value koi bhi kism ki data type ho skti hai"
      ],
      "metadata": {
        "id": "d6MpQf5V08vU"
      }
    },
    {
      "cell_type": "code",
      "source": [
        "student_name: list[str]=[\"rehan\",\"musa\"]\n",
        "students_grades:list[int]=[90,96]\n",
        "\n"
      ],
      "metadata": {
        "id": "TSB2M4os1IcD"
      },
      "execution_count": null,
      "outputs": []
    },
    {
      "cell_type": "markdown",
      "source": [
        "dictionary  kia hoti hai us me dono types ki value to rakha ja sakta hai jaise hum multi dimantion arry dekhty thy aik key value assign hoti hai"
      ],
      "metadata": {
        "id": "pu5oywfN2-5e"
      }
    },
    {
      "cell_type": "code",
      "source": [
        "\"\"\"type casting\"\"\"\n",
        "students_grades:dict[str,int] ={\"rehan\":90,\"musa\":96}\n",
        "\n",
        "print(students_grades[\"rehan\"])\n",
        "students_grades['musa']"
      ],
      "metadata": {
        "colab": {
          "base_uri": "https://localhost:8080/"
        },
        "id": "BR7sunOw12Rt",
        "outputId": "6bced7f1-e78b-4676-c729-b9e272e35dc3"
      },
      "execution_count": null,
      "outputs": [
        {
          "output_type": "stream",
          "name": "stdout",
          "text": [
            "90\n"
          ]
        },
        {
          "output_type": "execute_result",
          "data": {
            "text/plain": [
              "96"
            ]
          },
          "metadata": {},
          "execution_count": 6
        }
      ]
    },
    {
      "cell_type": "markdown",
      "source": [
        "\"\"\"we cannot find keys from value due to key is uniqe and value can me same  maslan marks  do logon ke 20 ho sakty hai lakin key value same nhi hosakti\"\"\"\n",
        "\n",
        "students_grades[90]"
      ],
      "metadata": {
        "id": "v4sZVEw_45Xl"
      }
    },
    {
      "cell_type": "markdown",
      "source": [
        "dict fast data retrival kar sakty hain\n"
      ],
      "metadata": {
        "id": "jl11zwws7oFV"
      }
    },
    {
      "cell_type": "code",
      "source": [
        "dir(dict)"
      ],
      "metadata": {
        "colab": {
          "base_uri": "https://localhost:8080/"
        },
        "id": "E7DrefJj7Zys",
        "outputId": "e0183748-c3bf-49bf-82fa-af30e463ad29"
      },
      "execution_count": null,
      "outputs": [
        {
          "output_type": "execute_result",
          "data": {
            "text/plain": [
              "['__class__',\n",
              " '__class_getitem__',\n",
              " '__contains__',\n",
              " '__delattr__',\n",
              " '__delitem__',\n",
              " '__dir__',\n",
              " '__doc__',\n",
              " '__eq__',\n",
              " '__format__',\n",
              " '__ge__',\n",
              " '__getattribute__',\n",
              " '__getitem__',\n",
              " '__getstate__',\n",
              " '__gt__',\n",
              " '__hash__',\n",
              " '__init__',\n",
              " '__init_subclass__',\n",
              " '__ior__',\n",
              " '__iter__',\n",
              " '__le__',\n",
              " '__len__',\n",
              " '__lt__',\n",
              " '__ne__',\n",
              " '__new__',\n",
              " '__or__',\n",
              " '__reduce__',\n",
              " '__reduce_ex__',\n",
              " '__repr__',\n",
              " '__reversed__',\n",
              " '__ror__',\n",
              " '__setattr__',\n",
              " '__setitem__',\n",
              " '__sizeof__',\n",
              " '__str__',\n",
              " '__subclasshook__',\n",
              " 'clear',\n",
              " 'copy',\n",
              " 'fromkeys',\n",
              " 'get',\n",
              " 'items',\n",
              " 'keys',\n",
              " 'pop',\n",
              " 'popitem',\n",
              " 'setdefault',\n",
              " 'update',\n",
              " 'values']"
            ]
          },
          "metadata": {},
          "execution_count": 8
        }
      ]
    },
    {
      "cell_type": "code",
      "source": [
        "students_grades:dict[str,int] ={\"rehan\":90,\"musa\":96}\n",
        "students_grades.clear()\n",
        "students_grades"
      ],
      "metadata": {
        "colab": {
          "base_uri": "https://localhost:8080/"
        },
        "id": "fx15nrQY7yvr",
        "outputId": "882a0ebc-5a35-4662-d700-cfc9fc5fcee5"
      },
      "execution_count": null,
      "outputs": [
        {
          "output_type": "execute_result",
          "data": {
            "text/plain": [
              "{}"
            ]
          },
          "metadata": {},
          "execution_count": 9
        }
      ]
    },
    {
      "cell_type": "markdown",
      "source": [
        "COPY AND SHELLO COPY"
      ],
      "metadata": {
        "id": "pg0GNCe6Fe04"
      }
    },
    {
      "cell_type": "code",
      "source": [
        "students_grades:dict[str,int] ={\"rehan\":90,\"musa\":96}\n",
        "print(students_grades)\n",
        "new_dict0=students_grades.copy()\n",
        "print(\"this is dict0\",new_dict0)\n",
        "\n",
        "students_grades:dict[str,int] ={\"rehan\":988,\"musa\":96} #humare pass dictiory thi usko  hum  ne phr edit kia\n",
        "\n",
        "print(\"this is edited dic now\",students_grades)\n",
        "#shallow copy  me\n",
        "new_dict=students_grades.copy()\n",
        "new_dict"
      ],
      "metadata": {
        "colab": {
          "base_uri": "https://localhost:8080/"
        },
        "id": "Wg8b1wbjFce9",
        "outputId": "c5b4b896-4d37-483d-c9e3-8178c046e839"
      },
      "execution_count": null,
      "outputs": [
        {
          "output_type": "stream",
          "name": "stdout",
          "text": [
            "{'rehan': 90, 'musa': 96}\n",
            "this is dict0 {'rehan': 90, 'musa': 96}\n",
            "this is edited dic now {'rehan': 988, 'musa': 96}\n"
          ]
        },
        {
          "output_type": "execute_result",
          "data": {
            "text/plain": [
              "{'rehan': 988, 'musa': 96}"
            ]
          },
          "metadata": {},
          "execution_count": 42
        }
      ]
    },
    {
      "cell_type": "code",
      "source": [
        "new_dict\n"
      ],
      "metadata": {
        "colab": {
          "base_uri": "https://localhost:8080/"
        },
        "id": "JZkcVqAHFoaF",
        "outputId": "4929b68a-d100-45b2-8efc-a7eff0a098db"
      },
      "execution_count": null,
      "outputs": [
        {
          "output_type": "execute_result",
          "data": {
            "text/plain": [
              "{'rehan': 988, 'musa': 96}"
            ]
          },
          "metadata": {},
          "execution_count": 24
        }
      ]
    },
    {
      "cell_type": "code",
      "source": [
        "import copy # yeh copy pre define function hai ager iss ki jaga koi or bakwas likjho gy to yeh khy ga bhai yeh pakage mere pas nhi hai isko define karo\n",
        "students_grades:dict[str,int] ={\"rehan\":90,\"musa\":96}\n",
        "new_dict1=copy.copy(students_grades)\n",
        "new_dict1"
      ],
      "metadata": {
        "colab": {
          "base_uri": "https://localhost:8080/"
        },
        "id": "1N3o1WJuNGtz",
        "outputId": "12e757fc-559e-4d80-a17b-32b9e4969390"
      },
      "execution_count": null,
      "outputs": [
        {
          "output_type": "execute_result",
          "data": {
            "text/plain": [
              "{'rehan': 90, 'musa': 96}"
            ]
          },
          "metadata": {},
          "execution_count": 28
        }
      ]
    },
    {
      "cell_type": "code",
      "source": [
        "\n",
        "\"\"\"import soda\n",
        "students_grades:dict[str,int] ={\"rehan\":90,\"musa\":96}\n",
        "new_dict1=soda.deepcopy(students_grades)\n",
        "new_dict1\"\"\"\n",
        "#ModuleNotFoundError: No module named 'soda'\n"
      ],
      "metadata": {
        "colab": {
          "base_uri": "https://localhost:8080/",
          "height": 35
        },
        "id": "lxO2axz-NnuE",
        "outputId": "5f6b0ab3-05a0-426c-b529-4dc90fb1201b"
      },
      "execution_count": null,
      "outputs": [
        {
          "output_type": "execute_result",
          "data": {
            "text/plain": [
              "'import soda\\nstudents_grades:dict[str,int] ={\"rehan\":90,\"musa\":96}\\nnew_dict1=soda.deepcopy(students_grades)\\nnew_dict1'"
            ],
            "application/vnd.google.colaboratory.intrinsic+json": {
              "type": "string"
            }
          },
          "metadata": {},
          "execution_count": 29
        }
      ]
    },
    {
      "cell_type": "code",
      "source": [
        "students_grades:dict[str,int] ={\"rehan\":90,\"musa\":96}\n",
        "new_dict1 =copy.deepcopy(students_grades)\n",
        "new_dict1\n",
        "students_grades:dict[str,int] ={\"rehan\":90,\"musa\":999}\n",
        "print(students_grades)\n",
        "new_dict1\n",
        "\n",
        "students_grades:dict[str,int] ={\"rehan\":90,\"musa\":96}\n",
        "new_dict3=students_grades.copy()\n",
        "new_dict3"
      ],
      "metadata": {
        "colab": {
          "base_uri": "https://localhost:8080/"
        },
        "id": "Mjn8XFp-N7nv",
        "outputId": "eab31662-cf15-4c04-b1c4-a099266b8dae"
      },
      "execution_count": null,
      "outputs": [
        {
          "output_type": "stream",
          "name": "stdout",
          "text": [
            "{'rehan': 90, 'musa': 999}\n"
          ]
        },
        {
          "output_type": "execute_result",
          "data": {
            "text/plain": [
              "{'rehan': 90, 'musa': 96}"
            ]
          },
          "metadata": {},
          "execution_count": 44
        }
      ]
    }
  ]
}