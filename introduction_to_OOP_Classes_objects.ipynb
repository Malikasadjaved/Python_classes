{
  "nbformat": 4,
  "nbformat_minor": 0,
  "metadata": {
    "colab": {
      "provenance": [],
      "authorship_tag": "ABX9TyNLZUBiAxNudL5lbcEUfMcE",
      "include_colab_link": true
    },
    "kernelspec": {
      "name": "python3",
      "display_name": "Python 3"
    },
    "language_info": {
      "name": "python"
    }
  },
  "cells": [
    {
      "cell_type": "markdown",
      "metadata": {
        "id": "view-in-github",
        "colab_type": "text"
      },
      "source": [
        "<a href=\"https://colab.research.google.com/github/Malikasadjaved/Python_classes/blob/main/introduction_to_OOP_Classes_objects.ipynb\" target=\"_parent\"><img src=\"https://colab.research.google.com/assets/colab-badge.svg\" alt=\"Open In Colab\"/></a>"
      ]
    },
    {
      "cell_type": "markdown",
      "source": [],
      "metadata": {
        "id": "0ZO7pA0QwKrO"
      }
    },
    {
      "cell_type": "markdown",
      "source": [
        "programing paradims\n",
        "how to write code in a structure style\n",
        "# Procedural Programming\n",
        "# Functional Programming\n",
        "# Object-Oriented Programming\n",
        "# Logic Programming\n",
        "# Aspect-Oriented Programming"
      ],
      "metadata": {
        "id": "ZpslXxhvwidA"
      }
    },
    {
      "cell_type": "markdown",
      "source": [
        "#programing structure to write the program\n",
        "#program ko tarteeb se rakhny ko paradime khty hai toh hum oop ko #batoor object oriented programing use kare gy\n"
      ],
      "metadata": {
        "id": "h-vBiq6rwlkt"
      }
    },
    {
      "cell_type": "markdown",
      "source": [
        "oop aik code likhne ka aik treeka hai\n",
        "\n",
        "oop me\n",
        "object and class  two imporatant chizen hain"
      ],
      "metadata": {
        "id": "jqKKXCBSxO5_"
      }
    },
    {
      "cell_type": "markdown",
      "source": [
        "#class blue print (naqsha)"
      ],
      "metadata": {
        "id": "0jFzxaGXxzeY"
      }
    },
    {
      "cell_type": "markdown",
      "source": [
        "#what is class & object"
      ],
      "metadata": {
        "id": "P6Uh8Dfy8bKv"
      }
    },
    {
      "cell_type": "code",
      "source": [
        "#this is a class\n",
        "class House:\n",
        "  address:str=\"house no 123\"      #these are properties in the class body\n",
        "  number_of_rooms: int= 2         #\n",
        "  house_color: str=\"blue\"\n",
        "  number_of_doors: int=4\n",
        "\n",
        "\n",
        "\n",
        "\n",
        "# this is a object\n",
        "asad_house = House()\n",
        "print(asad_house.house_color)\n",
        "print(asad_house.address)\n",
        "print(asad_house.number_of_doors)\n",
        "print(asad_house.number_of_rooms)\n",
        "\n",
        "ali_house=House()                 #same class ko use karte hue different object bana diya\n",
        "print(ali_house.house_color)\n",
        "print(ali_house.address)\n",
        "print(ali_house.number_of_doors)\n",
        "print(ali_house.number_of_rooms)\n",
        "\n",
        "hamzah_house=House()              #same class ko use karte hue different object bana diya\n",
        "print(hamzah_house.house_color)\n",
        "print(hamzah_house.address)\n",
        "print(hamzah_house.number_of_doors)\n",
        "print(hamzah_house.number_of_rooms)\n",
        "\n",
        "\n",
        "                # hum same calss/blueprint/naqsha ko use karty hue different object banasakty\n",
        "                                                  # hai\n"
      ],
      "metadata": {
        "colab": {
          "base_uri": "https://localhost:8080/"
        },
        "id": "3iaEH34Iy_ne",
        "outputId": "16baac04-e0d2-43bd-c103-e26fe91b2c59"
      },
      "execution_count": null,
      "outputs": [
        {
          "output_type": "stream",
          "name": "stdout",
          "text": [
            "blue\n",
            "house no 123\n",
            "4\n",
            "2\n"
          ]
        }
      ]
    },
    {
      "cell_type": "code",
      "source": [
        "#This is class\n",
        "class House:\n",
        "  address:str=\"house no 123\"\n",
        "  number_of_rooms:int = 2\n",
        "  number_of_doors:int =4\n",
        "  house_color:str =\"blue\"\n",
        "\n",
        "#this is object\n",
        "asad_house = House()\n",
        "taha_house = House()\n",
        "print(f\"asad house address is {asad_house.address}\")\n",
        "print(f\"taha house address is {taha_house.address}\")\n",
        "\n",
        "\n",
        "# ubh masla yeh hai ke object different hai maslan 2 ghar hai toh address samne\n",
        "# nhi ho sakty ya koi or attribute hai house ke case me asad ka ghar 2blw story\n",
        "# ho 5 bed ho or colour tea pink ho toh kia kare gy iss surt me huamre pass\n",
        "# constructor fuction ata hai constructor function kia hai nichy dekhty hain\n"
      ],
      "metadata": {
        "colab": {
          "base_uri": "https://localhost:8080/"
        },
        "id": "DJXFPmGz4pNy",
        "outputId": "b6c6dd95-5a85-404f-f045-acee30c5a145"
      },
      "execution_count": null,
      "outputs": [
        {
          "output_type": "stream",
          "name": "stdout",
          "text": [
            "asad house address is house no 123\n",
            "taha house address is house no 123\n"
          ]
        }
      ]
    },
    {
      "cell_type": "markdown",
      "source": [
        "#constructor function (mistery urdu wala mazdoor mistery function )\n",
        "\n",
        "\n",
        "*   constructor function kia karta hai?\n",
        "  Answer yeh construct kaarta hai\n",
        "*   kia construct karta hai?\n",
        "\n",
        "Answer:\n",
        "object ke attributes ko class ko use karty hue construct karta hai\n",
        "issko hum blue print dety hue yeh bta dai ke \"\"asad ke 5 bed rakhny hai address asad ka 123 hoga or taha  ka 124 ya 188 ,xyz hoga wagera rakhna\"\"\n",
        "\n",
        "jub yeh house bnaye ga toh  chizen muktalf rakhy ga\n",
        "ubh isko bnaty kasie hai  nichy dekhty hai"
      ],
      "metadata": {
        "id": "jm7cs7Ia579G"
      }
    },
    {
      "cell_type": "code",
      "source": [
        "#constroctor funtion ko kaise define karty hai\n",
        "\n",
        "#This is class\n",
        "class House:\n",
        "  address:str=\"house no 123\"\n",
        "  number_of_rooms:int = 2\n",
        "  number_of_doors:int =4\n",
        "  house_color:str =\"blue\"\n",
        "\n",
        "  def __init__(self):                 #constrouctor fuction  ghar bnany ki site per use hora ha\n",
        "    print(\"this is a constructor\")        # ager ap constrouctor function nhi define kare\n",
        "                                             # gy to python automatic use def karde gi\n",
        "\n",
        "#this is object\n",
        "asad_house = House()\n",
        "taha_house = House()\n",
        "print(f\"asad house address is {asad_house.address}\")\n",
        "print(f\"taha house address is {taha_house.address}\")"
      ],
      "metadata": {
        "colab": {
          "base_uri": "https://localhost:8080/"
        },
        "id": "_HuMp6kt55Kg",
        "outputId": "a0ca1d69-b854-4f95-b26b-35647a971c67"
      },
      "execution_count": null,
      "outputs": [
        {
          "output_type": "stream",
          "name": "stdout",
          "text": [
            "this is a constructor\n",
            "this is a constructor\n",
            "asad house address is house no 123\n",
            "taha house address is house no 123\n"
          ]
        }
      ]
    },
    {
      "cell_type": "markdown",
      "source": [
        "counstrouctor & (self) kia karta hai"
      ],
      "metadata": {
        "id": "CTPKmmw4ETzO"
      }
    },
    {
      "cell_type": "code",
      "source": [
        "#humare pas maslla yeh hai ke sub ka ddress change hai toh kya kare gy\n",
        "#constroctor funtion ko kaise define karty hai\n",
        "               #def __init__(self): istrha define karty hai ubh (self) kia bla hai\n",
        "               # self hume btata hai ke is class me kitni or kia kia properties hai\n",
        "\n",
        "\n",
        "#This is class\n",
        "class House:\n",
        "  address:str=\"house no 123\"\n",
        "  number_of_rooms:int = 2\n",
        "  number_of_doors:int =4\n",
        "  house_color:str =\"blue\"\n",
        "\n",
        "  def __init__(self):\n",
        "    print(self.address)\n",
        "    print(self.house_color)\n",
        "    print(self.number_of_doors)\n",
        "\n",
        "#this is object\n",
        "asad_house = House()\n",
        "\n",
        "#print(f\"asad house address is {asad_house.address}\")\n"
      ],
      "metadata": {
        "colab": {
          "base_uri": "https://localhost:8080/"
        },
        "id": "MF-OsWj__WIu",
        "outputId": "65f5f2df-47d6-45e4-e51e-c34827188218"
      },
      "execution_count": null,
      "outputs": [
        {
          "output_type": "stream",
          "name": "stdout",
          "text": [
            "house no 123\n",
            "blue\n",
            "4\n"
          ]
        }
      ]
    },
    {
      "cell_type": "markdown",
      "source": [
        "masla of repetion of same data in attributes"
      ],
      "metadata": {
        "id": "AXqj6wfbKTSM"
      }
    },
    {
      "cell_type": "code",
      "source": [
        "class House:\n",
        "  address:str=\"house no 123\"  # <-- attributes(properties)\n",
        "  number_of_rooms:int = 2     # <-- attributes(properties)\n",
        "  number_of_doors:int =4      # <-- attributes(properties)\n",
        "  house_color:str =\"blue\"     # <-- attributes(properties)\n",
        "\n",
        "  def __init__(self):         #<-- constructor function\n",
        "    print(self.address)\n",
        "    print(self.house_color)\n",
        "    print(self.number_of_doors)\n",
        "\n",
        "#this is object\n",
        "asad_house = House() #<---- object"
      ],
      "metadata": {
        "colab": {
          "base_uri": "https://localhost:8080/"
        },
        "id": "8fpPEkMcN1aK",
        "outputId": "52d49f7b-e184-48c9-c202-eb6d53b18f77"
      },
      "execution_count": null,
      "outputs": [
        {
          "output_type": "stream",
          "name": "stdout",
          "text": [
            "house no 123\n",
            "blue\n",
            "4\n"
          ]
        }
      ]
    },
    {
      "cell_type": "code",
      "source": [
        "#masla yeh tha pehly humne class likhi phr object bnaye phr wo data aik jaisa tha\n",
        "#sara  phr humne coustroctor\n",
        "# ko define kia usme self ko dala jiss se tamam attributes samny a gye phr humne\n",
        "# kia kia calss me dia gya data khtam kardia or properties/attributes rehny diye\n",
        "#istrha\n",
        "\"\"\"class House:\n",
        "  address:str=\"house no 123\"  # <-- attributes(properties)\n",
        "  number_of_rooms:int = 2     # <-- attributes(properties)\n",
        "  number_of_doors:int =4      # <-- attributes(properties)\n",
        "  house_color:str =\"blue\"     # <-- attributes(properties)\n",
        "  def __init__(self):         #<-- constructor function\n",
        "    print(self.address)\n",
        "    print(self.house_color)\n",
        "    print(self.number_of_doors)\n",
        "#this is object\n",
        "asad_house = House() #<---- object\n",
        "\"\"\"#ubh kam kiasy kare ga jo MASLA hai common address /data ko khtam karne or\n",
        "# subka apna apna data /ya kissi aik attribute ka object me dalne ka uske liye\n",
        "# class me se data uraa degy\n",
        "\n",
        "#This is class\n",
        "class House:\n",
        "  address:str\n",
        "  number_of_rooms:int=2\n",
        "  number_of_doors:int=4\n",
        "  house_color:str =\"blue\"\n",
        "\n",
        "  def __init__(self):                #Or phr coustrortor me likhy gy\n",
        "    self.address = \"house no. 123\"   # print humne sare hash kardiye hai toh\n",
        "                                     #kuch bhi print nhi hua run karne per\n",
        "\n",
        "#this is object\n",
        "\n",
        "asad_house = House()\n",
        "\n",
        "#print(f\"asad house address is {asad_house.address}\") #kuch bhi run nhi karwa rhy\n"
      ],
      "metadata": {
        "id": "x6QUgomPBGDN"
      },
      "execution_count": null,
      "outputs": []
    },
    {
      "cell_type": "code",
      "source": [
        "#This is class\n",
        "class House:\n",
        "  address:str\n",
        "  number_of_rooms:int = 2\n",
        "  number_of_doors:int =4\n",
        "  house_color:str =\"blue\"\n",
        "\n",
        "  def __init__(self):\n",
        "    self.address=\"House No.123\"\n",
        "\n",
        "\n",
        "#this is object\n",
        "asad_house = House()\n",
        "\n",
        "print(f\"asad house address is {asad_house.address}\") #output:asad house address is House No.123\n",
        "\n",
        "                        # ubh yeh address kha se set kia ? counstrouctor function se kia\n",
        "                        #phr woi masla aye ga  jitne bhi object bnaow gy woi result aye ga  house 123\n",
        "                        #ubh soloution kia hai iska aye dekhty hain\n",
        "\n"
      ],
      "metadata": {
        "colab": {
          "base_uri": "https://localhost:8080/"
        },
        "id": "MQQET0AfIkjb",
        "outputId": "bf32bdb5-e990-405f-badd-32e3b106e94e"
      },
      "execution_count": null,
      "outputs": [
        {
          "output_type": "stream",
          "name": "stdout",
          "text": [
            "asad house address is House No.123\n"
          ]
        }
      ]
    },
    {
      "cell_type": "code",
      "source": [
        "#This is class\n",
        "class House:\n",
        "  address:str\n",
        "  number_of_rooms:int = 2\n",
        "  number_of_doors:int =4\n",
        "  house_color:str =\"blue\"\n",
        "\n",
        "  def __init__(self,address:str):     #yaha self hota hi hota hai is me aik or paraemeter address rakty hain\n",
        "    self.address=\"House No.123\"\n",
        "\n",
        "\n",
        "#this is object\n",
        "asad_house = House() #<---- yaha address ko pass nhi kia toh error aya\n",
        "\n",
        "print(f\"asad house address is {asad_house.address}\")\n",
        "\n",
        "#isscode ko run kare gy toh jase hi house ki class ko call kia to constructor chalta hai  init ka funtion call kare ga jiss\n",
        "#me address ka attribute manga hua hai jis ki value define nhi hai jo define nhi hai to error ajye ga\n",
        "#jub bhi parameter likhy gy counstroctor me toh hume  house ki class me address daina pare ga\n",
        "\n",
        "#aye dekhty hain"
      ],
      "metadata": {
        "colab": {
          "base_uri": "https://localhost:8080/",
          "height": 220
        },
        "id": "lOMIn19zJgPE",
        "outputId": "896bb94b-9c62-450f-e7a3-de1b4f4620b3"
      },
      "execution_count": null,
      "outputs": [
        {
          "output_type": "error",
          "ename": "TypeError",
          "evalue": "House.__init__() missing 1 required positional argument: 'address'",
          "traceback": [
            "\u001b[0;31m---------------------------------------------------------------------------\u001b[0m",
            "\u001b[0;31mTypeError\u001b[0m                                 Traceback (most recent call last)",
            "\u001b[0;32m<ipython-input-32-8d3142197a61>\u001b[0m in \u001b[0;36m<cell line: 0>\u001b[0;34m()\u001b[0m\n\u001b[1;32m     11\u001b[0m \u001b[0;34m\u001b[0m\u001b[0m\n\u001b[1;32m     12\u001b[0m \u001b[0;31m#this is object\u001b[0m\u001b[0;34m\u001b[0m\u001b[0;34m\u001b[0m\u001b[0m\n\u001b[0;32m---> 13\u001b[0;31m \u001b[0masad_house\u001b[0m \u001b[0;34m=\u001b[0m \u001b[0mHouse\u001b[0m\u001b[0;34m(\u001b[0m\u001b[0;34m)\u001b[0m\u001b[0;34m\u001b[0m\u001b[0;34m\u001b[0m\u001b[0m\n\u001b[0m\u001b[1;32m     14\u001b[0m \u001b[0;34m\u001b[0m\u001b[0m\n\u001b[1;32m     15\u001b[0m \u001b[0mprint\u001b[0m\u001b[0;34m(\u001b[0m\u001b[0;34mf\"asad house address is {asad_house.address}\"\u001b[0m\u001b[0;34m)\u001b[0m\u001b[0;34m\u001b[0m\u001b[0;34m\u001b[0m\u001b[0m\n",
            "\u001b[0;31mTypeError\u001b[0m: House.__init__() missing 1 required positional argument: 'address'"
          ]
        }
      ]
    },
    {
      "cell_type": "code",
      "source": [
        "#humne kia kia cousntroctor me address ka perameter dala phr humne address\n",
        "# ki value ko object calling me house ki class me define kia\n",
        "\n",
        "#This is class\n",
        "class House:\n",
        "  address:str\n",
        "  number_of_rooms:int = 2\n",
        "  number_of_doors:int =4\n",
        "  house_color:str =\"blue\"\n",
        "\n",
        "  def __init__(self,address:str):\n",
        "    self.address= address #<-- yaha humne jo address likha hua tha usko parameter se replace kar dia\n",
        "\n",
        "\n",
        "#this is object\n",
        "asad_house = House(\"house no 123\")     #<--object calling per house ki calss me address define kia\n",
        "\n",
        "print(f\"asad house address is {asad_house.address}\")"
      ],
      "metadata": {
        "colab": {
          "base_uri": "https://localhost:8080/"
        },
        "id": "TvyqldJFQyxi",
        "outputId": "c76b709c-e5aa-498b-add8-8eefef94b813"
      },
      "execution_count": null,
      "outputs": [
        {
          "output_type": "stream",
          "name": "stdout",
          "text": [
            "asad house address is house no 123\n"
          ]
        }
      ]
    },
    {
      "cell_type": "code",
      "source": [
        "#This is class\n",
        "class House:\n",
        "  address:str       #shuru me hum ghalti kar rhy thy class ki body me address ko define kar rhy thy  toh data same ho rha tha\n",
        "  number_of_rooms:int = 2\n",
        "  number_of_doors:int =4\n",
        "  house_color:str =\"blue\"\n",
        "\n",
        "  def __init__(self,address:str):      #1 phr humne introduce karwaya constrouctor function usme dia parameter\n",
        "    self.address= address              #3 \"self.address\" se calss me address  acess hoga or \"=adress\" yeh parameter wala address hai\n",
        "\n",
        "\n",
        "#this is object\n",
        "asad_house = House(\"house no 123\")     #  2<----- counstrouctor  ke parameter ko address ki value di\n",
        "\n",
        "print(f\"asad house address is {asad_house.address}\")"
      ],
      "metadata": {
        "id": "E5DwMldpTKuT"
      },
      "execution_count": null,
      "outputs": []
    },
    {
      "cell_type": "code",
      "source": [
        "#This is class\n",
        "class House:\n",
        "  address:str\n",
        "  number_of_rooms:int = 2\n",
        "  number_of_doors:int =4\n",
        "  house_color:str =\"blue\"\n",
        "\n",
        "  def __init__(self,address:str):\n",
        "    self.address= address\n",
        "\n",
        "\n",
        "#this is object\n",
        "asad_house = House(\"house no 123\")\n",
        "taha_house= House(\"house no 245\")\n",
        "zubair_house=House(\"house no 99\")\n",
        "\n",
        "print(f\"asad house address is {asad_house.address}\")\n",
        "print(f\"taha house address is {taha_house.address}\")\n",
        "print(f\"zubair house address is {zubair_house.address}\")"
      ],
      "metadata": {
        "colab": {
          "base_uri": "https://localhost:8080/"
        },
        "id": "pbBVtQM5VzEN",
        "outputId": "97cbc767-711f-4ab9-b37d-5c51e43a09c2"
      },
      "execution_count": null,
      "outputs": [
        {
          "output_type": "stream",
          "name": "stdout",
          "text": [
            "asad house address is house no 123\n",
            "taha house address is house no 245\n",
            "zubair house address is house no 99\n"
          ]
        }
      ]
    },
    {
      "cell_type": "code",
      "source": [
        "#This is class\n",
        "class House:\n",
        "  address:str\n",
        "  number_of_rooms:int\n",
        "  number_of_doors:int\n",
        "  house_color:str =\"blue\"\n",
        "\n",
        "  def __init__(self,address:str,number_of_rooms:int,num_of_doors:int): #<- yaha number of doors ki jaga num_of_doors short\n",
        "    self.address= address                                                   #me likha hai jo hum likh sakty hai\n",
        "    self.number_of_rooms=number_of_rooms\n",
        "    self.number_of_doors=num_of_doors #<-----yeh humne parameter me lafz ko chota kar ke number ki jaga num\n",
        "                                                #likh tha usko aise define kare gy\n",
        "\n",
        "\n",
        "#this is object\n",
        "asad_house = House(\"house no 123\",22,3)#<---object calling per house ki class me koi aisi property jo apne parameter me define ki hai wo na likha to error aye ga\n",
        "taha_house= House(\"house no 245\",5,1)\n",
        "zubair_house=House(\"house no 99\",3,1)\n",
        "#fahad_house=House(\"house no 11\",4) TypeError: House.__init__() missing 1 required positional argument: 'num_of_doors'\n",
        "print(f\"asad house address is {asad_house.address} The number of rooms are {asad_house.number_of_rooms}  & the number of door are {asad_house.number_of_doors}\")\n",
        "print(f\"taha house address is {taha_house.address} The number of rooms are {taha_house.number_of_rooms} & the number of door are {taha_house.number_of_doors}\")\n",
        "print(f\"zubair house address is {zubair_house.address} The number of rooms are {zubair_house.number_of_rooms} & the number of door are {zubair_house.number_of_doors}\")\n",
        "#print(f\"fahad house address is {fahad_house.address} The number of rooms are {fahad_house.number_of_rooms} \")"
      ],
      "metadata": {
        "colab": {
          "base_uri": "https://localhost:8080/"
        },
        "id": "xXBvIwDkXLkx",
        "outputId": "ffbcd51c-0cf9-4182-9cac-dcfc9050a414"
      },
      "execution_count": null,
      "outputs": [
        {
          "output_type": "stream",
          "name": "stdout",
          "text": [
            "asad house address is house no 123 The number of rooms are 22  & the number of door are 3\n",
            "taha house address is house no 245 The number of rooms are 5 & the number of door are 1\n",
            "zubair house address is house no 99 The number of rooms are 3 & the number of door are 1\n"
          ]
        }
      ]
    },
    {
      "cell_type": "markdown",
      "source": [
        "after propertiies now functionalityis of  class\n",
        "e.g lift in the house uper jari hai nichy ja rhi hai\n",
        "bell of the house(ding dong ) which are working\n",
        "tap for water\n",
        "\n",
        "* class House() blue print(naqsha)\n",
        "\n",
        "* properties of house\n",
        "  (-address\n",
        "  -number of doors\n",
        "  -number of rooms\n",
        "  -house color)\n",
        "\n",
        "* constructor (parameter)\n",
        "\n",
        "* object =house(parameter ka data )\n",
        "\n",
        "\n",
        "* methods /function\n",
        "\n",
        "ring-bell()\n",
        "lift-up-down()\n",
        "samrt_light()\n",
        "\n"
      ],
      "metadata": {
        "id": "vAsfPKvjONj5"
      }
    },
    {
      "cell_type": "code",
      "source": [
        "#This is class\n",
        "class House:\n",
        "  address:str\n",
        "  number_of_rooms:int = 2\n",
        "  number_of_doors:int =4\n",
        "  house_color:str =\"blue\"\n",
        "\n",
        "  def __init__(self,paddress:str):     #<--init ke nichy humare pas function likha hai use hum method bolty hain\n",
        "    self.address= paddress             #<---- (self) class ke ander use hota hai attribute ko access karne ke liye\n",
        "\n",
        "  def ring_bell(self):          #yeh humare pas function hai/method hai or yeh init ke nichy or calss ki body se bahr hai\n",
        "    print(\"ding dong\")\n",
        "  def lift_up_down(self):\n",
        "    print(\"lift up\")\n",
        "  def smart_light(self):\n",
        "    print(\"light on\")\n",
        "\n",
        "\n",
        "#this is object\n",
        "asad_house = House(\"house no 123\")\n",
        "\n",
        "asad_house.ring_bell()\n",
        "asad_house.lift_up_down()\n",
        "asad_house.smart_light()\n",
        "asad_house.greet()\n",
        "print(f\"asad house address is {asad_house.address}\")\n"
      ],
      "metadata": {
        "colab": {
          "base_uri": "https://localhost:8080/"
        },
        "id": "SFqbV4JSPpHT",
        "outputId": "83891eac-c231-412f-e337-20c5d9d94558"
      },
      "execution_count": null,
      "outputs": [
        {
          "output_type": "stream",
          "name": "stdout",
          "text": [
            "ding dong\n",
            "lift up\n",
            "light on\n",
            "hithaha<__main__.House object at 0x7ff15545b950>\n",
            "asad house address is house no 123\n"
          ]
        }
      ]
    },
    {
      "cell_type": "markdown",
      "source": [
        "# oop\n",
        "* class\n",
        "* object\n",
        "* constrouctor(parameter)\n",
        "* method"
      ],
      "metadata": {
        "id": "P5LckVjOUGeU"
      }
    }
  ]
}