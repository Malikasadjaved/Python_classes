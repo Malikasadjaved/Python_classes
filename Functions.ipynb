{
  "nbformat": 4,
  "nbformat_minor": 0,
  "metadata": {
    "colab": {
      "provenance": [],
      "authorship_tag": "ABX9TyOHqkzw1MELKEftESu+qBHv",
      "include_colab_link": true
    },
    "kernelspec": {
      "name": "python3",
      "display_name": "Python 3"
    },
    "language_info": {
      "name": "python"
    }
  },
  "cells": [
    {
      "cell_type": "markdown",
      "metadata": {
        "id": "view-in-github",
        "colab_type": "text"
      },
      "source": [
        "<a href=\"https://colab.research.google.com/github/Malikasadjaved/Python_classes/blob/main/Functions.ipynb\" target=\"_parent\"><img src=\"https://colab.research.google.com/assets/colab-badge.svg\" alt=\"Open In Colab\"/></a>"
      ]
    },
    {
      "cell_type": "markdown",
      "source": [
        "#matrix"
      ],
      "metadata": {
        "id": "dNMPhODcL3bA"
      }
    },
    {
      "cell_type": "code",
      "source": [
        "#mat=[[1,2,3], [4,5,6], [7,8,9]] list same as down\n",
        "mat=[\n",
        "    [1,2,3],\n",
        "    [4,5,6],\n",
        "    [7,8,9]\n",
        "\n",
        "]\n",
        "print(mat[0][2]) #<- in mat=[0]this is row and [2] this is colum the output: is 3\n",
        "\n"
      ],
      "metadata": {
        "colab": {
          "base_uri": "https://localhost:8080/"
        },
        "id": "5xfNAWav_6Jv",
        "outputId": "f184cf2c-ac9e-4a54-b38c-cbdb9a12073d"
      },
      "execution_count": null,
      "outputs": [
        {
          "output_type": "stream",
          "name": "stdout",
          "text": [
            "3\n"
          ]
        }
      ]
    },
    {
      "cell_type": "code",
      "source": [
        "for row in mat:\n",
        "  print (row)\n",
        "  print(\"++++++++++++++++++++\")\n",
        "\n",
        "for col in mat:\n",
        "  print (col)\n",
        "  print(\"++++++++++++++++++++\")"
      ],
      "metadata": {
        "colab": {
          "base_uri": "https://localhost:8080/"
        },
        "id": "lNS0VD41BzpR",
        "outputId": "775cc0fd-fce4-48df-c640-d81f687ce8b6"
      },
      "execution_count": null,
      "outputs": [
        {
          "output_type": "stream",
          "name": "stdout",
          "text": [
            "[1, 2, 3]\n",
            "++++++++++++++++++++\n",
            "[4, 5, 6]\n",
            "++++++++++++++++++++\n",
            "[7, 8, 9]\n",
            "++++++++++++++++++++\n",
            "[1, 2, 3]\n",
            "++++++++++++++++++++\n",
            "[4, 5, 6]\n",
            "++++++++++++++++++++\n",
            "[7, 8, 9]\n",
            "++++++++++++++++++++\n"
          ]
        }
      ]
    },
    {
      "cell_type": "code",
      "source": [
        "for row in mat:\n",
        "#  print (row)\n",
        "  for col in row:\n",
        "   col+=1\n",
        "   print (col)\n",
        "  print(\"++++++++++++++++++++\")\n"
      ],
      "metadata": {
        "colab": {
          "base_uri": "https://localhost:8080/"
        },
        "id": "NiY0JOVWCfyw",
        "outputId": "efc26450-74cb-4f71-bf4f-1a7520b7c112"
      },
      "execution_count": null,
      "outputs": [
        {
          "output_type": "stream",
          "name": "stdout",
          "text": [
            "2\n",
            "3\n",
            "4\n",
            "++++++++++++++++++++\n",
            "5\n",
            "6\n",
            "7\n",
            "++++++++++++++++++++\n",
            "8\n",
            "9\n",
            "10\n",
            "++++++++++++++++++++\n"
          ]
        }
      ]
    },
    {
      "cell_type": "code",
      "source": [
        "for row in mat:\n",
        "  for col in row: #for colum in rows\n",
        "      col+=1      #add a number in each col number +1\n",
        "      print (col)\n",
        "      print(\"++++++++++++++++++++\") #for spartate\n"
      ],
      "metadata": {
        "colab": {
          "base_uri": "https://localhost:8080/"
        },
        "id": "FvwAnxT0DiYN",
        "outputId": "4af30361-048f-4da6-9401-d8c885542385"
      },
      "execution_count": null,
      "outputs": [
        {
          "output_type": "stream",
          "name": "stdout",
          "text": [
            "2\n",
            "++++++++++++++++++++\n",
            "3\n",
            "++++++++++++++++++++\n",
            "4\n",
            "++++++++++++++++++++\n",
            "5\n",
            "++++++++++++++++++++\n",
            "6\n",
            "++++++++++++++++++++\n",
            "7\n",
            "++++++++++++++++++++\n",
            "8\n",
            "++++++++++++++++++++\n",
            "9\n",
            "++++++++++++++++++++\n",
            "10\n",
            "++++++++++++++++++++\n"
          ]
        }
      ]
    },
    {
      "cell_type": "markdown",
      "source": [
        "Functions\n",
        "* waht is fucntions\n",
        "* *if we want to use a thing repeatedly we can creat a coustom function\n",
        "* jub bhi koi kam bar bar 10 step  perform karne ke bajaye unko aik fuction me enclose kar dai gy\n",
        "\n",
        "#define the function\n",
        " def add():    def for define phr name phr () phr : colon\n",
        "   code ki logic yaha aye gi\n",
        "   pass  \n",
        "\n",
        "\n",
        "\n",
        "invoke the function\n"
      ],
      "metadata": {
        "id": "r_n8ZLrRMBd2"
      }
    },
    {
      "cell_type": "code",
      "source": [
        "def greet(name):\n",
        "  print(f\"Asalam o alikum {name} kia hall hai g\")\n",
        "\n",
        "greet(\"asad\")                         # yeh humara function hai is me humara argument hai asad\n",
        "                                      # jo funtion run karty hue function ko input di jati hai use arrgument khty hai\n",
        "greet(\"asad\".capitalize()) # yaha funtion me maine aik or function use kia hai .upper()or bhi use ho sakty hai captilize xyz\n"
      ],
      "metadata": {
        "colab": {
          "base_uri": "https://localhost:8080/"
        },
        "id": "qv8lv_oqPJKi",
        "outputId": "7bfed0ba-41e3-4d68-bba1-3b3b531da424"
      },
      "execution_count": null,
      "outputs": [
        {
          "output_type": "stream",
          "name": "stdout",
          "text": [
            "Asalam o alikum asad kia hall hai g\n",
            "Asalam o alikum Asad kia hall hai g\n"
          ]
        }
      ]
    },
    {
      "cell_type": "code",
      "source": [
        "#define the function\n",
        "def add():    #def for define phr name phr () phr : colon\n",
        "   #code ki logic yaha aye gi\n",
        "   pass\n",
        "\n",
        "\n",
        "\n",
        "#invoke the function\n"
      ],
      "metadata": {
        "id": "Lzg0NinDSQSI"
      },
      "execution_count": null,
      "outputs": []
    },
    {
      "cell_type": "code",
      "source": [
        "#define the function\n",
        "def add(a:int,b:int):    #def for define funtion phr \"add\" nameof the funtion phr () phr : colon for next block inside function\n",
        "   result1=(a+b)# next line code ki logic yaha aye gi\n",
        "   print(result1)\n",
        "\n",
        "\n",
        "\n",
        "#invoke the function\n",
        "add(5,6)"
      ],
      "metadata": {
        "colab": {
          "base_uri": "https://localhost:8080/"
        },
        "id": "Z3SsQYfqTo9g",
        "outputId": "0f5f8318-37ae-4add-f32d-b1af67d24f61"
      },
      "execution_count": null,
      "outputs": [
        {
          "output_type": "stream",
          "name": "stdout",
          "text": [
            "11\n"
          ]
        }
      ]
    },
    {
      "cell_type": "code",
      "source": [
        "#define the function\n",
        "def add(a:int,b:int):    #def for define funtion phr \"add\" nameof the funtion phr () phr : colon for next block inside function\n",
        "   result1=(a+b)# next line code ki logic yaha aye gi\n",
        "   print(result1)\n",
        "\n",
        "\n",
        "\n",
        "#invoke the function\n",
        "\n",
        "add(22,99) #or hume aise bhi likh sakty hain positonal arrgument ko keywor me bhi change kar sakty hain\\\n",
        "add(a=22,b=99)"
      ],
      "metadata": {
        "colab": {
          "base_uri": "https://localhost:8080/"
        },
        "id": "Cw5oi7-gUll0",
        "outputId": "10781f31-9294-4fce-f094-513828ad5f76"
      },
      "execution_count": null,
      "outputs": [
        {
          "output_type": "stream",
          "name": "stdout",
          "text": [
            "121\n",
            "121\n"
          ]
        }
      ]
    },
    {
      "cell_type": "markdown",
      "source": [
        "#4 type of function\n",
        "# 1   no input -> no output\n",
        "# 2   input ->no output\n",
        "# 3   no input -> output\n",
        "# 4   input-> output"
      ],
      "metadata": {
        "id": "c1DUEl3YVF3i"
      }
    },
    {
      "cell_type": "code",
      "source": [
        " #1 no input no output()\n",
        "def multiply(): #no input mean no input in funtion parameter as arrgument\n",
        "    first_numb=int(input(\"enter first number\"))\n",
        "    second_numb=int(input(\"enter second number\"))\n",
        "    result=first_numb*second_numb\n",
        "    print(result)    #Yeh sirf dikhany ke liye hai  kye multiplyication ho rhi hai lakin multiply ka function  kuch return nhi kar rha\n",
        "\n",
        "multiply() #no out put mean no output in funtion calling time  \"\"\"function will return none\"\"\""
      ],
      "metadata": {
        "colab": {
          "base_uri": "https://localhost:8080/"
        },
        "id": "w9BGJ8oRZFSm",
        "outputId": "3da49946-9a53-4ed9-f1ec-1b31e0901c9e"
      },
      "execution_count": null,
      "outputs": [
        {
          "output_type": "stream",
          "name": "stdout",
          "text": [
            "enter first number11\n",
            "enter second number2\n",
            "22\n",
            "enter first number22\n",
            "enter second number3\n",
            "66\n",
            "None\n"
          ]
        }
      ]
    },
    {
      "cell_type": "code",
      "source": [
        "# 2 Input -> No Output  matlb hum ne funtion ki body ke bhr  input le rhy hain lakin funtion kuch return nhi kar rha\n",
        "def multiply(first_number,second_number ):\n",
        "    result = first_number * second_number\n",
        "    print(\"this is to only show  not to return any value-> \",result)   #yeh sirf show kare ga lakin multiply me kuch save nhi hoga #none hai\n",
        "#return use nhi kia isliye no output kuch bhi return nhi kare ga khali print me show kare ga\n",
        "first_number = int(input(\"Enter first number: \"))  #yaha yeh funtion ki body ke bhar hum ne input li hai\n",
        "second_number = int(input(\"Enter second number: \"))\n",
        "\n",
        "multiply(first_number, second_number)\n",
        "#print(multiply(first_number, second_number))     #iss ko cooment iss liye kia hai yeh\n",
        "                                                  # hume bta dai multiply me kia return hua hai kuch bhi nhi none\n"
      ],
      "metadata": {
        "colab": {
          "base_uri": "https://localhost:8080/"
        },
        "id": "KX1W1GSmX76c",
        "outputId": "d612da28-ef5f-4a62-e85c-51d1b4f16819"
      },
      "execution_count": null,
      "outputs": [
        {
          "output_type": "stream",
          "name": "stdout",
          "text": [
            "Enter first number: 22\n",
            "Enter second number: 33\n",
            "this is to only show  not to return any value->  726\n"
          ]
        }
      ]
    },
    {
      "cell_type": "markdown",
      "source": [
        "*NOTE: Ager hum ne koi function  define kia bnaya hai usko koi phr usko inwoke kia value /arrgument di to usko kuch return karna chye uper ke function me koi inwoke hone ke bad output multiply ka function nhi de rha hai matlab  wo return none kar rha hai"
      ],
      "metadata": {
        "id": "xvD7R4qBx2Bq"
      }
    },
    {
      "cell_type": "code",
      "source": [],
      "metadata": {
        "id": "ufYOEiUHyojw"
      },
      "execution_count": null,
      "outputs": []
    },
    {
      "cell_type": "code",
      "source": [
        "#defination of function\n",
        "def multiply(first_number,second_number ):\n",
        "    result = first_number * second_number\n",
        "    print(\"this is to only show  not to return any value-> \",result)   #yeh sirf show kare ga lakin multiply me kuch save nhi hoga #none hai\n",
        "\n",
        "first_number = int(input(\"Enter first number: \"))  #yaha yeh funtion ki body ke bhar hum ne input li hai\n",
        "second_number = int(input(\"Enter second number: \"))\n",
        "\n",
        "#invoke the function\n",
        "\n",
        "multiply(first_number, second_number)"
      ],
      "metadata": {
        "id": "XBi8crRXfbl_",
        "colab": {
          "base_uri": "https://localhost:8080/"
        },
        "outputId": "93491b71-c6d7-4fc2-c7e2-536a645600f8"
      },
      "execution_count": null,
      "outputs": [
        {
          "output_type": "stream",
          "name": "stdout",
          "text": [
            "Enter first number: 22\n",
            "Enter second number: 33\n",
            "this is to only show  not to return any value->  726\n"
          ]
        }
      ]
    },
    {
      "cell_type": "code",
      "source": [
        "#same case above\n",
        "def multiply(a,b):\n",
        "    result = a * b\n",
        "    print(result)   #yeh sirf show kare ga lakin multiply me kuch save nhi hoga #none hai\n",
        "\n",
        "first_number = int(input(\"Enter first number: \"))  #yaha yeh funtion ki body ke bhar hum ne input li hai\n",
        "second_number = int(input(\"Enter second number: \"))\n",
        "\n",
        "#invoke the function\n",
        "\n",
        "multiply(first_number, second_number)"
      ],
      "metadata": {
        "id": "wafyZBNdX8ps",
        "colab": {
          "base_uri": "https://localhost:8080/"
        },
        "outputId": "7773c6c5-34af-47ca-a526-21be05114f7b"
      },
      "execution_count": null,
      "outputs": [
        {
          "output_type": "stream",
          "name": "stdout",
          "text": [
            "Enter first number: 88\n",
            "Enter second number: 99\n",
            "8712\n"
          ]
        }
      ]
    },
    {
      "cell_type": "code",
      "source": [
        "The first part, def multiply(a, b):, defines the function.\n",
        "\n",
        "def is a keyword in Python used to declare a function.\n",
        "multiply is the name of the function.\n",
        "(a, b) inside the parentheses indicate that this function expects two arguments,\n",
        "      which will be referred to as a and b within the function.\n",
        "The colon : signifies the start of the function's body.\n",
        "Inside the function, result = a * b calculates the product of the two arguments a and b and stores it in a variable named result.\n",
        "The line print(result) displays the value of result to the console.\n",
        "\n",
        "first_number = int(input(\"Enter first number: \"))\n",
        "second_number = int(input(\"Enter second number: \"))   These two lines get input from the user.\n",
        "\n",
        "#invoke the function\n",
        "\n",
        "multiply(first_number, second_number)\n",
        "Use code with caution\n",
        "Finally, this line calls or \"invokes\" the multiply function.\n",
        "\n",
        "multiply(first_number, second_number) passes the integer values stored in first_number and second_number as arguments to the multiply function.\n",
        "When the function is called, the code inside its body is executed with a taking the value of first_number and b taking the value of second_number.\n",
        "This will calculate the product of the two numbers provided by the user and print the result only to show but not return anything in function multyply()\n"
      ],
      "metadata": {
        "id": "cpQVQZIF0Sqg"
      },
      "execution_count": null,
      "outputs": []
    },
    {
      "cell_type": "code",
      "source": [
        "#no input  -> output\n",
        "def multiply():\n",
        "  first_number = int(input(\"Enter first number: \"))  #yaha yeh funtion ki body ke bhar hum ne input li hai\n",
        "  second_number = int(input(\"Enter second number: \"))\n",
        "  result = first_number * second_number\n",
        "  return(result)\n",
        "  #print(result)\n",
        "\n",
        "#invoke the function\n",
        "result=multiply()\n",
        "print(\"out side the function result>........\",result)\n"
      ],
      "metadata": {
        "colab": {
          "base_uri": "https://localhost:8080/"
        },
        "id": "_RzVooI01ftM",
        "outputId": "7c8bb9bb-2453-4f0b-d506-84a72e1bc342"
      },
      "execution_count": null,
      "outputs": [
        {
          "output_type": "stream",
          "name": "stdout",
          "text": [
            "Enter first number: 55\n",
            "Enter second number: 2\n",
            "out side the function result 110\n"
          ]
        }
      ]
    },
    {
      "cell_type": "code",
      "source": [
        "#4 input -> output\n",
        "def multiply(a,b):\n",
        "    result = a * b\n",
        "    return(result)\n",
        "first_number = int(input(\"Enter first number: \"))  #yaha yeh funtion ki body ke bhar hum ne input li hai\n",
        "second_number = int(input(\"Enter second number: \"))\n",
        "\n",
        "result=multiply(first_number,second_number)\n",
        "print(result)\n",
        "\n"
      ],
      "metadata": {
        "id": "ZO4drGWIVye3",
        "colab": {
          "base_uri": "https://localhost:8080/"
        },
        "outputId": "44b14ac1-e0d8-4603-e616-e38f0fc00ddf"
      },
      "execution_count": null,
      "outputs": [
        {
          "output_type": "stream",
          "name": "stdout",
          "text": [
            "Enter first number: 33\n",
            "Enter second number: 4343\n",
            "143319\n"
          ]
        }
      ]
    },
    {
      "cell_type": "code",
      "source": [
        "Summery : jub invoking multply() me hum ager koi value de gy 22,33,44,first_num,secnd_num ,x,y,z,a,b..\n",
        " jo recive hua def ki body me jo multiply() a,b,f_num,s_num wagera me racive hua or humne output result return karwa dia\n",
        " jaha per bhi return ka keyword aye ga function waha se direct apni invoking position per chala jaye ga"
      ],
      "metadata": {
        "id": "2YXxv6M-78Jr"
      },
      "execution_count": null,
      "outputs": []
    },
    {
      "cell_type": "code",
      "source": [
        "#programe case me  do number add kare or phr 3rd se multiply kar dain\n",
        "def add(a,b):\n",
        "  result=a+b\n",
        "  return result\n",
        "\n",
        "\n",
        "def multiply(a,b):\n",
        "  return a*b\n",
        "\n",
        "result=add(3,7)\n",
        "multi_result= multiply(result,34)\n",
        "print(multi_result)2"
      ],
      "metadata": {
        "colab": {
          "base_uri": "https://localhost:8080/"
        },
        "id": "pWAISCbpFbkw",
        "outputId": "1b9fcce6-796c-4bf4-ac9a-66fd863d286b"
      },
      "execution_count": null,
      "outputs": [
        {
          "output_type": "stream",
          "name": "stdout",
          "text": [
            "enter first number55\n",
            "enter second number33\n",
            "enter number to multiply with addition33\n",
            "the result of the addition is 88\n",
            "the result of multiplycation  of addition is 2904\n"
          ]
        }
      ]
    },
    {
      "cell_type": "markdown",
      "source": [
        "#positional aurgoments\n",
        "argument humesha parameter  per ja kar hi place hoga waha per koi bhi chiz ho wo apni location per ja kar save hoga nichy 2 exmple\n",
        "pehli  me argument ko correct likha hai  to result same aya hai apni position wala or jub cahnge kia hai tub bhi result aya hai lakin age ki jaga name or name ki jaga age ayi hai"
      ],
      "metadata": {
        "id": "tB6Et16TJPnr"
      }
    },
    {
      "cell_type": "code",
      "source": [
        "def teacher_info(name:str,age:int):\n",
        "  print(f\"teacher name is {name} and age is {age}\")\n",
        "\n",
        "teacher_info(\"asad\",22)\n",
        "\n"
      ],
      "metadata": {
        "colab": {
          "base_uri": "https://localhost:8080/"
        },
        "id": "86vtpEUXJWEf",
        "outputId": "722e1bde-356d-4b36-f9b1-b5dbdf07d6c7"
      },
      "execution_count": null,
      "outputs": [
        {
          "output_type": "stream",
          "name": "stdout",
          "text": [
            "teacher name is asad and age is 22\n"
          ]
        }
      ]
    },
    {
      "cell_type": "code",
      "source": [
        "teacher_info(18,\"asad\")       #yaha argument ki position me  age ki jaga name or name\n",
        "                              #ki jaga age likh di hai postion change hone se result diff aya hai lakin  parameter ne\n",
        "                              #agrument ki position se woi  value pick ki hai jiss sequence se value di gai hai"
      ],
      "metadata": {
        "colab": {
          "base_uri": "https://localhost:8080/"
        },
        "id": "EyEJAZwBJyJq",
        "outputId": "76f8d6a2-1153-4759-92d6-fdd6b671fdef"
      },
      "execution_count": null,
      "outputs": [
        {
          "output_type": "stream",
          "name": "stdout",
          "text": [
            "teacher name is 18 and age is asad\n"
          ]
        }
      ]
    },
    {
      "cell_type": "markdown",
      "source": [
        "* keyword arrguments"
      ],
      "metadata": {
        "id": "XLoy5KO9MSVY"
      }
    },
    {
      "cell_type": "code",
      "source": [
        "def teacher_info(name,age):\n",
        "  print(f\"teacher name is {name} and age is {age}\")\n",
        "\n",
        "teacher_info(\"asad\",22)\n",
        "\n"
      ],
      "metadata": {
        "colab": {
          "base_uri": "https://localhost:8080/"
        },
        "id": "dfkzITwQMZWK",
        "outputId": "d032bd29-013c-4205-9794-a46f1f9de01e"
      },
      "execution_count": null,
      "outputs": [
        {
          "output_type": "stream",
          "name": "stdout",
          "text": [
            "teacher name is asad and age is 22\n"
          ]
        }
      ]
    },
    {
      "cell_type": "code",
      "source": [
        "teacher_info(age=22,name=\"asad\") #yaha per humne keyword bhi add kar dia hai\n",
        "                                #jo ke parameter me  us jaga jaye ga jo jga uske keyword ki\n",
        "                                # hai ubh position matter nhi kare gi\n",
        "                                # function invoke kar ke me 22 ki value age me de rha hu or asad ki value me\n",
        "                                # name me de raha ho"
      ],
      "metadata": {
        "colab": {
          "base_uri": "https://localhost:8080/"
        },
        "id": "srsVFAZFMqym",
        "outputId": "59f012ca-c9d2-4e39-84de-4181dc861650"
      },
      "execution_count": null,
      "outputs": [
        {
          "output_type": "stream",
          "name": "stdout",
          "text": [
            "teacher name is asad and age is 22\n"
          ]
        }
      ]
    },
    {
      "cell_type": "markdown",
      "source": [
        "default value arrgument me\n",
        "* hum parameter me  hi value de daity hai ke ager argument me koi\n",
        "* value na bhi ho to default value run ho jaye\n"
      ],
      "metadata": {
        "id": "k7U9tQzKNlHf"
      }
    },
    {
      "cell_type": "code",
      "source": [
        "def teacher_info(name=\"test\",age=22): #defult value\n",
        "  print(f\"Hello {name} and Your age is {age}\")\n",
        "\n",
        "teacher_info()\n",
        "teacher_info(\"asad\")\n"
      ],
      "metadata": {
        "colab": {
          "base_uri": "https://localhost:8080/"
        },
        "id": "6iqnSHELNuXQ",
        "outputId": "07161d02-d81c-4b43-bc66-7cebd3b2394f"
      },
      "execution_count": null,
      "outputs": [
        {
          "output_type": "stream",
          "name": "stdout",
          "text": [
            "Hello test and Your age is 22\n",
            "Hello asad and Your age is 22\n"
          ]
        }
      ]
    },
    {
      "cell_type": "code",
      "source": [
        "teacher_info(age=18)"
      ],
      "metadata": {
        "colab": {
          "base_uri": "https://localhost:8080/"
        },
        "id": "y04FOdlg-pj1",
        "outputId": "cc3387b3-dbc9-474c-8c67-eb5407e2f4cd"
      },
      "execution_count": null,
      "outputs": [
        {
          "output_type": "stream",
          "name": "stdout",
          "text": [
            "Hello test and Your age is 18\n"
          ]
        }
      ]
    },
    {
      "cell_type": "code",
      "source": [
        "teacher_info(name='Rehan')"
      ],
      "metadata": {
        "colab": {
          "base_uri": "https://localhost:8080/"
        },
        "id": "A1VBx0ZT-0-n",
        "outputId": "8617664b-e25b-4787-9daa-db872dcf9797"
      },
      "execution_count": null,
      "outputs": [
        {
          "output_type": "stream",
          "name": "stdout",
          "text": [
            "Hello Rehan and Your age is 22\n"
          ]
        }
      ]
    },
    {
      "cell_type": "code",
      "source": [
        "teacher_info('Rehan',30)"
      ],
      "metadata": {
        "colab": {
          "base_uri": "https://localhost:8080/"
        },
        "id": "6oEZfwGK-5VV",
        "outputId": "c6a5762b-b7da-4dca-b801-acaaf63c3f6a"
      },
      "execution_count": null,
      "outputs": [
        {
          "output_type": "stream",
          "name": "stdout",
          "text": [
            "Hello Rehan and Your age is 30\n"
          ]
        }
      ]
    },
    {
      "cell_type": "code",
      "source": [
        "def simple_func(names):\n",
        "    pass              # ager ap koilogic nhi den gy to pass ke keyword se\n",
        "                       #error nhi de ga q ke : se wo code block expect ka rha hai\n",
        "\n",
        "\n",
        "\n",
        "simple_func(\"rehan\")"
      ],
      "metadata": {
        "id": "FPltAWqRmupd"
      },
      "execution_count": null,
      "outputs": []
    },
    {
      "cell_type": "markdown",
      "source": [
        "#unlimited positional aurguments"
      ],
      "metadata": {
        "id": "foOWkDuqnp7G"
      }
    },
    {
      "cell_type": "markdown",
      "source": [
        "koi aisa function hai jiss me parameter ki tadad define nhi hai koi 10 de rha hai ko12 de rha hai toh uske liye hum nichy wala block code use kare gy"
      ],
      "metadata": {
        "id": "zqC8PU-4nBGf"
      }
    },
    {
      "cell_type": "code",
      "source": [
        "def simple_func(*names): #aisa function jo 100 se bhi ziada parameter\n",
        "                        #dety jo kam kare ga  or result tuple me aye ga\n",
        "    print(names)\n",
        "\n",
        "\n",
        "simple_func(\"rehan\",\"mustafa\",\"faizan\",\"ali\") #yeh tuple ki faom me result de ga"
      ],
      "metadata": {
        "colab": {
          "base_uri": "https://localhost:8080/"
        },
        "id": "rLP1Bi3nm9J6",
        "outputId": "447c15de-bedd-4967-828f-b94190348062"
      },
      "execution_count": null,
      "outputs": [
        {
          "output_type": "stream",
          "name": "stdout",
          "text": [
            "('rehan', 'mustafa', 'faizan', 'ali')\n"
          ]
        }
      ]
    },
    {
      "cell_type": "code",
      "source": [
        "*def simple_func(*names):\n",
        "    for name in names:\n",
        "        print(name)\n",
        "    print(type(names))\n",
        "\n",
        "\n",
        "simple_func(\"Rehan\",\"Usman\",\"Ibtisam\")\n",
        "\n"
      ],
      "metadata": {
        "colab": {
          "base_uri": "https://localhost:8080/"
        },
        "id": "ZHK6bf3jPHTb",
        "outputId": "c37f6005-1a07-40dd-ecf2-b66591b194f0"
      },
      "execution_count": null,
      "outputs": [
        {
          "output_type": "stream",
          "name": "stdout",
          "text": [
            "Rehan\n",
            "Usman\n",
            "Ibtisam\n",
            "<class 'tuple'>\n"
          ]
        }
      ]
    },
    {
      "cell_type": "code",
      "source": [
        "def simple_func(*names):\n",
        "    for name in names:\n",
        "        print(name)\n",
        "    print(type(names))\n",
        "\n",
        "names = [\"Rehan\", \"Usman\", \"Ibtisam\"]\n",
        "\n",
        "simple_func(*names) # list unpacking yeh uski squre brakets kholy ga or alag alag likhy ga availble karwa dai ga"
      ],
      "metadata": {
        "colab": {
          "base_uri": "https://localhost:8080/"
        },
        "id": "yXBGFDLjQY2j",
        "outputId": "c6468e5b-4121-4d78-bcfa-cf98ad840d7f"
      },
      "execution_count": null,
      "outputs": [
        {
          "output_type": "stream",
          "name": "stdout",
          "text": [
            "Rehan\n",
            "Usman\n",
            "Ibtisam\n",
            "<class 'tuple'>\n"
          ]
        }
      ]
    },
    {
      "cell_type": "markdown",
      "source": [
        "keyarguments"
      ],
      "metadata": {
        "id": "MG1HobRDqSVI"
      }
    },
    {
      "cell_type": "code",
      "source": [
        "def simple_func(**kwargs):\n",
        "    print(kwargs)\n",
        "    print(type(kwargs))\n",
        "\n",
        "simple_func(name='Rehan', age=4)"
      ],
      "metadata": {
        "colab": {
          "base_uri": "https://localhost:8080/"
        },
        "id": "Hv-SAfVCqRxC",
        "outputId": "0bf19d87-07da-469c-fb58-813a1e3374c4"
      },
      "execution_count": null,
      "outputs": [
        {
          "output_type": "stream",
          "name": "stdout",
          "text": [
            "{'name': 'Rehan', 'age': 4}\n",
            "<class 'dict'>\n"
          ]
        }
      ]
    },
    {
      "cell_type": "code",
      "source": [
        "def simple_func(**kwargs):\n",
        "    for key, value in kwargs.items(): # (name,rehan  ),(age,4)\n",
        "        print(f\"key is {key}  value is {value}\")\n",
        "    print(kwargs)\n",
        "    print(type(kwargs))\n",
        "\n",
        "simple_func(name='Rehan', age=4)"
      ],
      "metadata": {
        "colab": {
          "base_uri": "https://localhost:8080/"
        },
        "id": "YWCcAi3zqtbL",
        "outputId": "01ea5a6a-911c-4552-bdce-d860924ef3b4"
      },
      "execution_count": null,
      "outputs": [
        {
          "output_type": "stream",
          "name": "stdout",
          "text": [
            "key is name  value is Rehan\n",
            "key is age  value is 4\n",
            "{'name': 'Rehan', 'age': 4}\n",
            "<class 'dict'>\n"
          ]
        }
      ]
    },
    {
      "cell_type": "code",
      "source": [],
      "metadata": {
        "id": "_d9MK6iQq6Q1"
      },
      "execution_count": null,
      "outputs": []
    },
    {
      "cell_type": "code",
      "source": [
        "def simple_func(**kwargs):\n",
        "    for arg in args:\n",
        "        print(name)\n",
        "    print(type(names))\n",
        "\n",
        "names = [\"Rehan\", \"Usman\", \"Ibtisam\"]\n",
        "\n",
        "simple_func(*names)"
      ],
      "metadata": {
        "id": "QxLF6aXBQ6eb"
      },
      "execution_count": null,
      "outputs": []
    },
    {
      "cell_type": "markdown",
      "source": [
        "#scoops in function"
      ],
      "metadata": {
        "id": "fGz2druQQIoc"
      }
    },
    {
      "cell_type": "code",
      "source": [
        "def greeting(name):\n",
        "  print(\"hello\",name)\n",
        "\n",
        "greeting(\"asad\")"
      ],
      "metadata": {
        "colab": {
          "base_uri": "https://localhost:8080/"
        },
        "id": "CUPsQ5osQOFm",
        "outputId": "f50cf218-2aa1-4a8c-8b9b-957dac8abd29"
      },
      "execution_count": null,
      "outputs": [
        {
          "output_type": "stream",
          "name": "stdout",
          "text": [
            "hello asad\n"
          ]
        }
      ]
    },
    {
      "cell_type": "code",
      "source": [
        "def greeting(name):\n",
        "    print(\"Hello\",name)\n",
        "\n",
        "name=\"asad\"\n",
        "\n",
        "greeting(name)\n"
      ],
      "metadata": {
        "colab": {
          "base_uri": "https://localhost:8080/"
        },
        "id": "Khmzsf9cQoPD",
        "outputId": "fd057399-8693-4b5f-d83a-755aff197bc1"
      },
      "execution_count": null,
      "outputs": [
        {
          "output_type": "stream",
          "name": "stdout",
          "text": [
            "hello asad\n"
          ]
        }
      ]
    },
    {
      "cell_type": "code",
      "source": [
        "def greeting(name):\n",
        "    name= \"rehan\"   #when the veriable is assigend a value inside the function it is called local variable /scope is local\n",
        "    print(\"Hello\",name)\n",
        "\n",
        "name=\"asad\" #when the variable is outside the function it is called global variable/ scope is globle\n",
        "\n",
        "greeting(name)\n",
        "\n",
        "print(name) #string has different memory address so it  will remane same due to its immuteability"
      ],
      "metadata": {
        "colab": {
          "base_uri": "https://localhost:8080/"
        },
        "id": "dLFAB1v-RFDy",
        "outputId": "1f8e1d4c-f5ef-4969-fb95-34821a020fad"
      },
      "execution_count": null,
      "outputs": [
        {
          "output_type": "stream",
          "name": "stdout",
          "text": [
            "Hello rehan\n",
            "asad\n"
          ]
        }
      ]
    },
    {
      "cell_type": "markdown",
      "source": [
        "#string immuteable hai wo globle me same rahy ga  lakin list muteable hai wo change ho jaye gi\n",
        "# or new result  same memory address me shift ho jaye ga"
      ],
      "metadata": {
        "id": "nlfaOyDtXfrA"
      }
    },
    {
      "cell_type": "code",
      "source": [
        "def check_list (My_list: list): #check list ka fn bnaya  parameter me dal dia\n",
        "    My_list.append(4)         #list ko append kia\n",
        "    print(sample_list) # [1,2,3,4]\n",
        "\n",
        "\n",
        "sample_list = [1,2,3]     #global variable bnaya\n",
        "print(\"befor calling funtion list is\",sample_list)\n",
        "print(\"befor calling fn memory rafrance is \",id(sample_list))\n",
        "check_list(sample_list)\n",
        "\n",
        "print(sample_list) #output :[1,2,3,4] is ka out put [1,2,3] ana chye tha\n",
        "                            #q keh list muteable hai is liye is ke\n",
        "                              #memory refrancee same hone ki waja se isme hi changes hongy\n",
        "\n",
        "print(\"after runing of function memory address is\",id(sample_list)) #due to muteability of list type"
      ],
      "metadata": {
        "colab": {
          "base_uri": "https://localhost:8080/"
        },
        "id": "nWes9eC9E9Ra",
        "outputId": "352ac730-8835-4478-beda-cdfaf9f7019f"
      },
      "execution_count": null,
      "outputs": [
        {
          "output_type": "stream",
          "name": "stdout",
          "text": [
            "befor calling funtion list is [1, 2, 3]\n",
            "befor calling fn memory rafrance is  133699864226624\n",
            "[1, 2, 3, 4]\n",
            "[1, 2, 3, 4]\n",
            "after runing of function memory address is 133699864226624\n"
          ]
        }
      ]
    },
    {
      "cell_type": "code",
      "source": [
        "def check_list (sample_list: list):\n",
        "    sample_list.append(4)\n",
        "    print(sample_list) # [1,2,3,4]\n",
        "\n",
        "\n",
        "sample_list = [1,2,3]\n",
        "\n",
        "check_list(sample_list)\n",
        "\n",
        "print(sample_list)"
      ],
      "metadata": {
        "id": "oApQArC8XiYo"
      },
      "execution_count": null,
      "outputs": []
    },
    {
      "cell_type": "code",
      "source": [
        "def check_list (l: list):\n",
        "    l.append(4)\n",
        "    print(l) # [1,2,3,4]\n",
        "\n",
        "\n",
        "sample_list = [1,2,3]\n",
        "\n",
        "check_list(sample_list)\n",
        "\n",
        "print(sample_list)"
      ],
      "metadata": {
        "colab": {
          "base_uri": "https://localhost:8080/"
        },
        "id": "7FzV66-tGNxT",
        "outputId": "8c1d53c9-3999-4e18-d95a-6209e2ff2847"
      },
      "execution_count": null,
      "outputs": [
        {
          "output_type": "stream",
          "name": "stdout",
          "text": [
            "[1, 2, 3, 4]\n",
            "[1, 2, 3, 4]\n"
          ]
        }
      ]
    },
    {
      "cell_type": "markdown",
      "source": [
        "# using of globle *inside* fn body and without boday result"
      ],
      "metadata": {
        "id": "zZ_IwV4-YxsR"
      }
    },
    {
      "cell_type": "code",
      "source": [
        "#without using globle scope result will be as per rule\n",
        "def check_string(n):\n",
        "  name = \"Rehan\"\n",
        "  print(f\"Inside the Function {name}\")\n",
        "\n",
        "name = \"Usman\"\n",
        "\n",
        "check_string(name)\n",
        "\n",
        "print(f\"Outside of function {name}\")\n"
      ],
      "metadata": {
        "colab": {
          "base_uri": "https://localhost:8080/"
        },
        "id": "n4YvgCnsIYMD",
        "outputId": "97ecfc5c-ef38-4100-a140-b0270d82cdcb"
      },
      "execution_count": null,
      "outputs": [
        {
          "output_type": "stream",
          "name": "stdout",
          "text": [
            "Inside the Function Rehan\n",
            "Outside of function Usman\n"
          ]
        }
      ]
    },
    {
      "cell_type": "code",
      "source": [
        "#using global\n",
        "def greetings(n):\n",
        "    global name #global ka key word bhar waly ki value funtion ke ander change karta hai\n",
        "    name = 'Rehan'\n",
        "    print(f\"Inside the Function {name}\")\n",
        "\n",
        "name = 'Usman'\n",
        "print(f\"function run hone se pehly name  {name} tha phr fn run hua \")\n",
        "\n",
        "greetings(name)\n",
        "\n",
        "print(f\"Outside of function {name}\")\n"
      ],
      "metadata": {
        "colab": {
          "base_uri": "https://localhost:8080/"
        },
        "id": "2q7C5cYXZYhU",
        "outputId": "a2598f6c-fa9d-4079-da31-6f6b4d1330a8"
      },
      "execution_count": null,
      "outputs": [
        {
          "output_type": "stream",
          "name": "stdout",
          "text": [
            "function run hone se pehly name  Usman tha phr fn run hua \n",
            "Inside the Function Rehan\n",
            "Outside of function Rehan\n"
          ]
        }
      ]
    },
    {
      "cell_type": "code",
      "source": [
        "#using global\n",
        "\n",
        "teacher_name: str = \"asad\" #yeh bahar wala hai\n",
        "\n",
        "def greetings():\n",
        "    global teacher_name #global ka key word bhar waly ki value funtion ke ander change karta hai\n",
        "    teacher_name = 'Rehan' #yeh ander wala hai\n",
        "    print(f\"Inside the Function {teacher_name}\")\n",
        "\n",
        "greetings()\n",
        "\n",
        "print(f\"Outside of function {teacher_name}\")\n"
      ],
      "metadata": {
        "colab": {
          "base_uri": "https://localhost:8080/"
        },
        "id": "ShB4bpGCbBw4",
        "outputId": "2c464383-b325-4d38-8375-250acc50420b"
      },
      "execution_count": null,
      "outputs": [
        {
          "output_type": "stream",
          "name": "stdout",
          "text": [
            "Inside the Function Rehan\n",
            "Outside of function Rehan\n"
          ]
        }
      ]
    },
    {
      "cell_type": "markdown",
      "source": [
        "#Recourcion\n",
        "#factorail"
      ],
      "metadata": {
        "id": "0BiXaOGwco4w"
      }
    },
    {
      "cell_type": "code",
      "source": [
        "def factorial(n):\n",
        "    if n < 0:\n",
        "        return None\n",
        "    if n < 2:\n",
        "        return 1\n",
        "    else:\n",
        "        result = 1 #120\n",
        "        for i in range(2,n+1): #2, 3, 4, 5\n",
        "            result *= i   # 120\n",
        "        return result\n",
        "print(factorial(5)) # Output: 120"
      ],
      "metadata": {
        "colab": {
          "base_uri": "https://localhost:8080/"
        },
        "id": "Dco-auradhdF",
        "outputId": "98337bf3-f695-43aa-c831-76371a1bf6aa"
      },
      "execution_count": null,
      "outputs": [
        {
          "output_type": "stream",
          "name": "stdout",
          "text": [
            "120\n"
          ]
        }
      ]
    },
    {
      "cell_type": "markdown",
      "source": [
        "For Recurcion: it is important to add base case in recursion"
      ],
      "metadata": {
        "id": "yL-YEH6Odn9L"
      }
    },
    {
      "cell_type": "code",
      "source": [
        "def factorial(n):\n",
        "  #base case\n",
        "    if n < 0:\n",
        "        return None\n",
        "    if n < 2:\n",
        "        return 1\n",
        "   #Recursive case\n",
        "    return n * factorial(n-1)\n",
        "print(factorial(5)) # Output: 120"
      ],
      "metadata": {
        "colab": {
          "base_uri": "https://localhost:8080/"
        },
        "id": "djrclHKLeHhS",
        "outputId": "d98322c4-1ab3-4baf-d820-cad781a1b6fd"
      },
      "execution_count": null,
      "outputs": [
        {
          "output_type": "stream",
          "name": "stdout",
          "text": [
            "120\n"
          ]
        }
      ]
    },
    {
      "cell_type": "code",
      "source": [
        "# prompt: fibonachi series with recursion\n",
        "\n",
        "# Fibonachi series with recursion\n",
        "def fibonacci(n):\n",
        "    # Base cases\n",
        "    if n <= 0:\n",
        "        return []\n",
        "    elif n == 1:\n",
        "        return [0]\n",
        "    elif n == 2:\n",
        "        return [0, 1]\n",
        "    # Recursive case\n",
        "    else:\n",
        "        # Get the sequence up to n-1\n",
        "        fib_sequence = fibonacci(n - 1)\n",
        "        # Calculate the next number\n",
        "        next_fib = fib_sequence[-1] + fib_sequence[-2]\n",
        "        # Append the next number to the sequence\n",
        "        fib_sequence.append(next_fib)\n",
        "        return fib_sequence\n",
        "\n",
        "# Example usage\n",
        "n = 11\n",
        "print(f\"Fibonacci series up to {n}: {fibonacci(n)}\")\n"
      ],
      "metadata": {
        "colab": {
          "base_uri": "https://localhost:8080/"
        },
        "id": "a4KPzIgpfmfm",
        "outputId": "5b9279e6-0e2d-422e-e758-d4c8728e0de7"
      },
      "execution_count": null,
      "outputs": [
        {
          "output_type": "stream",
          "name": "stdout",
          "text": [
            "Fibonacci series up to 11: [0, 1, 1, 2, 3, 5, 8, 13, 21, 34, 55]\n"
          ]
        }
      ]
    },
    {
      "cell_type": "markdown",
      "source": [
        "Exercise 9: (4) A Fibonacci sequence is the sequence of numbers 1, 1, 2, 3, 5, 8, 13, 21, 34, upto 20 times"
      ],
      "metadata": {
        "id": "_nv_hbxBgH38"
      }
    },
    {
      "cell_type": "code",
      "source": [],
      "metadata": {
        "id": "UI2IDBjagzrZ"
      },
      "execution_count": null,
      "outputs": []
    },
    {
      "cell_type": "markdown",
      "source": [
        "#lambda function\n",
        "yeh aik aisa function hai jo waha hi bnaya waha hi use kia or waha hi khatam ho gya  (disposible function )\n",
        "lambda parameter: expression"
      ],
      "metadata": {
        "id": "ay09rLptgTN0"
      }
    },
    {
      "cell_type": "code",
      "source": [
        "lambda parameter: expression/logic\n"
      ],
      "metadata": {
        "colab": {
          "base_uri": "https://localhost:8080/"
        },
        "id": "2oYuorqlgy0v",
        "outputId": "5b4bea53-06d1-4d5e-b4f8-cb0eb10735e3"
      },
      "execution_count": null,
      "outputs": [
        {
          "output_type": "execute_result",
          "data": {
            "text/plain": [
              "<function __main__.<lambda>(parameter)>"
            ]
          },
          "metadata": {},
          "execution_count": 81
        }
      ]
    },
    {
      "cell_type": "code",
      "source": [
        "# prompt: add lambda function in below example wihout adding map\n",
        "\n",
        "result = (lambda a, b: a * b)(5, 6)\n",
        "result"
      ],
      "metadata": {
        "colab": {
          "base_uri": "https://localhost:8080/"
        },
        "id": "_nn9RpduMu4y",
        "outputId": "69f24870-b4b0-4ebd-f68b-76312808bd73"
      },
      "execution_count": null,
      "outputs": [
        {
          "output_type": "execute_result",
          "data": {
            "text/plain": [
              "30"
            ]
          },
          "metadata": {},
          "execution_count": 52
        }
      ]
    },
    {
      "cell_type": "code",
      "source": [
        "# A lambda function that adds 10 to a number\n",
        "add_ten = lambda x: x + 10\n",
        "\n",
        "# Call the lambda function\n",
        "print(add_ten(5))  # Output: 15"
      ],
      "metadata": {
        "colab": {
          "base_uri": "https://localhost:8080/"
        },
        "id": "heNlxiU_OBH6",
        "outputId": "2b312ad8-2b08-43e0-d3fa-868c73556d08"
      },
      "execution_count": null,
      "outputs": [
        {
          "output_type": "stream",
          "name": "stdout",
          "text": [
            "15\n"
          ]
        }
      ]
    },
    {
      "cell_type": "code",
      "source": [],
      "metadata": {
        "id": "QlBAH4wnlbPh"
      },
      "execution_count": null,
      "outputs": []
    },
    {
      "cell_type": "code",
      "source": [
        "# prompt: add example of map with lambda function\n",
        "\n",
        "# Map with a lambda function\n",
        "numbers = [1, 2, 3, 4, 5]\n",
        "squared_numbers = list(map(lambda x: x**2, numbers))\n",
        "squared_numbers"
      ],
      "metadata": {
        "colab": {
          "base_uri": "https://localhost:8080/"
        },
        "id": "LiB2V_qNOhWi",
        "outputId": "d815e01a-0604-4b2a-ba28-a15ff132eec7"
      },
      "execution_count": null,
      "outputs": [
        {
          "output_type": "execute_result",
          "data": {
            "text/plain": [
              "[1, 4, 9, 16, 25]"
            ]
          },
          "metadata": {},
          "execution_count": 54
        }
      ]
    }
  ]
}