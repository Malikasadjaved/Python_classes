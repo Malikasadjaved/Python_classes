{
  "nbformat": 4,
  "nbformat_minor": 0,
  "metadata": {
    "colab": {
      "provenance": [],
      "authorship_tag": "ABX9TyNPjaIbQAZm9cDgxTiMk2gM",
      "include_colab_link": true
    },
    "kernelspec": {
      "name": "python3",
      "display_name": "Python 3"
    },
    "language_info": {
      "name": "python"
    }
  },
  "cells": [
    {
      "cell_type": "markdown",
      "metadata": {
        "id": "view-in-github",
        "colab_type": "text"
      },
      "source": [
        "<a href=\"https://colab.research.google.com/github/Malikasadjaved/Python_classes/blob/main/projects.ipynb\" target=\"_parent\"><img src=\"https://colab.research.google.com/assets/colab-badge.svg\" alt=\"Open In Colab\"/></a>"
      ]
    },
    {
      "cell_type": "markdown",
      "source": [
        "#Use case while loop if else\n",
        "* login panal\n",
        "* user have to enter username and pasword\n",
        "* only three attemps will bi given to login"
      ],
      "metadata": {
        "id": "Sko9OPSQuknu"
      }
    },
    {
      "cell_type": "code",
      "source": [
        "number_of_attempts = 3\n",
        "\n",
        "while number_of_attempts > 0:  # 0 > 0 -> flase\n",
        "  user_name = input(\"Enter your user name..\") # usman\n",
        "  user_Password = input(\"Enter your password...\") #123\n",
        "\n",
        "     # (usman ==  usman) true  and 123 == 123\n",
        "  if user_name == valid_user_name and user_Password == valid_user_password:\n",
        "    print(\"Login Successful\")\n",
        "  else:\n",
        "    print(\"Invalid Credentials\")\n",
        "\n",
        "  print(\"===========\") # for sapration\n",
        "  number_of_attempts -= 1 # \"3 -1 = 2\" , \"2 -1 =1\", \"1 -1 =0\"\n",
        "\n",
        "  if number_of_attempts == 0:\n",
        "    print(\"You have no more attempts\")\n"
      ],
      "metadata": {
        "id": "ArNTbzNOu_rl"
      },
      "execution_count": null,
      "outputs": []
    },
    {
      "cell_type": "code",
      "source": [],
      "metadata": {
        "id": "5vjEZ-PwHD05"
      },
      "execution_count": null,
      "outputs": []
    },
    {
      "cell_type": "markdown",
      "source": [],
      "metadata": {
        "id": "iTY--0PaHDd4"
      }
    },
    {
      "cell_type": "markdown",
      "source": [
        "guss my number program  \n",
        "* if enter  low then print \"low\"  \n",
        "* if enter high then print \"high\"\n",
        "* if enter correct print \"correct\""
      ],
      "metadata": {
        "id": "R6GtQPILgo3b"
      }
    },
    {
      "cell_type": "code",
      "source": [
        "import random\n",
        "my_num=random.randint(0,99) #question define rand int\n",
        "#print(f\"Random number genrated by ranint():{my_num}\")\n",
        "\n",
        "while True:\n",
        "  gussed_number= int(input(\"Enter guss number: \")) #ager yeha datatype define nhi kare gy toh input str hoga\n",
        "  if (gussed_number>my_num):\n",
        "     print(\"your guss is to high \")\n",
        "  elif (gussed_number<my_num):\n",
        "     print(\"your guss is to low\")\n",
        "  else:\n",
        "     print(\"you enter correct number\")\n",
        "     break #<--break  iss liye use kia hai iss liye q keh wile loop  continue hi rahy ga or jub hum break  ko use kare gy to"
      ],
      "metadata": {
        "colab": {
          "base_uri": "https://localhost:8080/"
        },
        "id": "HySJdK5rV0H2",
        "outputId": "32e5003b-61bd-4261-e3d7-218881ecae91"
      },
      "execution_count": null,
      "outputs": [
        {
          "output_type": "stream",
          "name": "stdout",
          "text": [
            "Enter guss number: 66\n",
            "your guss is to low\n",
            "Enter guss number: 77\n",
            "your guss is to low\n",
            "Enter guss number: 99\n",
            "your guss is to high \n",
            "Enter guss number: 88\n",
            "your guss is to high \n",
            "Enter guss number: 80\n",
            "your guss is to low\n",
            "Enter guss number: 85\n",
            "you enter correct number\n"
          ]
        }
      ]
    },
    {
      "cell_type": "markdown",
      "source": [
        "For count how many time loop runs we use count() funtion"
      ],
      "metadata": {
        "id": "9hcTQKxgfSpf"
      }
    },
    {
      "cell_type": "code",
      "source": [
        "\n",
        "# # project for oop\n",
        "my_num=random.randint(0,99) #question define rand int\n",
        "#print(f\"Random number genrated by ranint():{my_num}\") yeh sirf is liye likha tha ke chk kare randint() function number genrate kar rha hai\n",
        "count = 0  # Initialize a counter for the loop iterations\n",
        "while True:\n",
        "  count += 1 # Increment the counter in each iteration\n",
        "  gussed_number= int(input(\"Enter guss number: \")) #ager yeha datatype define nhi kare gy toh input str hoga\n",
        "  if (gussed_number>my_num):\n",
        "     print(\"your guss is to high \")\n",
        "  elif (gussed_number<my_num):\n",
        "     print(\"your guss is to low\")\n",
        "  else:\n",
        "     print(\"you enter correct number\")\n",
        "     break #<--break  iss liye use kia hai iss liye q keh wile loop  continue hi rahy ga or jub hum break  ko use kare gy to\n",
        "\n",
        "print(f\"The while loop ran {count} times.\") # Print the final count after the loop finishes\n"
      ],
      "metadata": {
        "colab": {
          "base_uri": "https://localhost:8080/"
        },
        "id": "WffWKMQ2egyg",
        "outputId": "ff00acb7-f297-4f14-e0a7-10f2d6dcb01c"
      },
      "execution_count": null,
      "outputs": [
        {
          "output_type": "stream",
          "name": "stdout",
          "text": [
            "Enter guss number: 33\n",
            "your guss is to high \n",
            "Enter guss number: 44\n",
            "your guss is to high \n",
            "Enter guss number: 11\n",
            "your guss is to low\n",
            "Enter guss number: 22\n",
            "your guss is to low\n",
            "Enter guss number: 29\n",
            "your guss is to low\n",
            "Enter guss number: 30\n",
            "your guss is to low\n",
            "Enter guss number: 31\n",
            "you enter correct number\n",
            "The while loop ran 7 times.\n"
          ]
        }
      ]
    },
    {
      "cell_type": "code",
      "source": [
        "#write a program to print 10 random number between (0 99)\n",
        "import random\n",
        "for i in range(10):\n",
        "  print(random.randint(0,99))\n",
        "#my_num=random.randint(0,99) #question define rand int\n",
        "#print(f\"Random number genrated by ranint():{my_num}\")\n"
      ],
      "metadata": {
        "colab": {
          "base_uri": "https://localhost:8080/"
        },
        "id": "hvJRYsl0hLDn",
        "outputId": "da8116f6-c0e9-4ac6-8d22-43b7517f8349"
      },
      "execution_count": null,
      "outputs": [
        {
          "output_type": "stream",
          "name": "stdout",
          "text": [
            "72\n",
            "94\n",
            "77\n",
            "14\n",
            "84\n",
            "4\n",
            "61\n",
            "80\n",
            "81\n",
            "88\n"
          ]
        }
      ]
    },
    {
      "cell_type": "code",
      "source": [
        "#write a program to print 10 random number between (0 99) in a single line\n",
        "for i in range(10):\n",
        "  print(random.randint(0,99),end=\" \")"
      ],
      "metadata": {
        "colab": {
          "base_uri": "https://localhost:8080/"
        },
        "id": "5m48JmmLiZun",
        "outputId": "4b594e17-b2ba-43eb-d8bf-87ccbb832324"
      },
      "execution_count": null,
      "outputs": [
        {
          "output_type": "stream",
          "name": "stdout",
          "text": [
            "13 12 80 82 72 7 33 78 96 53 "
          ]
        }
      ]
    },
    {
      "cell_type": "markdown",
      "source": [
        "#functions"
      ],
      "metadata": {
        "id": "T8iepsA9IruJ"
      }
    },
    {
      "cell_type": "code",
      "source": [
        "#programe case me  do input user se len number add kare or phr 3rd number le user se se multiply kar dain\n",
        "\n",
        "def add(a,b):\n",
        "  result=a+b\n",
        "  print(f\"the result of the addition is {result}\")\n",
        "  return result\n",
        "a=int(input(\"enter first number\"))\n",
        "b=int(input(\"enter second number\"))\n",
        "\n",
        "\n",
        "def multiply(a,b):\n",
        "  return a*b\n",
        "c=int(input(\"enter number to multiply with addition\"))\n",
        "\n",
        "result=add(a,b) #add(3,4)\n",
        "multi_result= multiply(result,c) #multiply(result,34) yeh nhi direct likh sakty hai phr ap input ko comment kar den\n",
        "print(f\"the result of multiplycation  of addition is {multi_result}\")"
      ],
      "metadata": {
        "id": "q5egpo5kInHL"
      },
      "execution_count": null,
      "outputs": []
    }
  ]
}