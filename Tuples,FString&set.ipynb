{
  "nbformat": 4,
  "nbformat_minor": 0,
  "metadata": {
    "colab": {
      "provenance": [],
      "authorship_tag": "ABX9TyO3NlMDUXXyKUMyv2BOk5FP",
      "include_colab_link": true
    },
    "kernelspec": {
      "name": "python3",
      "display_name": "Python 3"
    },
    "language_info": {
      "name": "python"
    }
  },
  "cells": [
    {
      "cell_type": "markdown",
      "metadata": {
        "id": "view-in-github",
        "colab_type": "text"
      },
      "source": [
        "<a href=\"https://colab.research.google.com/github/Malikasadjaved/Python_classes/blob/main/Tuples%2CFString%26set.ipynb\" target=\"_parent\"><img src=\"https://colab.research.google.com/assets/colab-badge.svg\" alt=\"Open In Colab\"/></a>"
      ]
    },
    {
      "cell_type": "markdown",
      "source": [
        "#logical operators"
      ],
      "metadata": {
        "id": "a_1lzuJtYy4S"
      }
    },
    {
      "cell_type": "code",
      "execution_count": null,
      "metadata": {
        "id": "x1kaJBwoCIPQ",
        "colab": {
          "base_uri": "https://localhost:8080/"
        },
        "outputId": "50496929-c836-4d0d-9437-2e706dca0e21"
      },
      "outputs": [
        {
          "output_type": "stream",
          "name": "stdout",
          "text": [
            "True\n",
            "True\n",
            "True\n",
            "True\n",
            "True\n",
            "False\n"
          ]
        }
      ],
      "source": [
        "result_equal: bool = 5 == 5\n",
        "result_not_equal: bool = 10 != 7\n",
        "result_greater_than: bool = 8 > 3\n",
        "result_less_than: bool = 6 < 9\n",
        "result_greater_equal: bool = 5 >= 5\n",
        "result_less_equal: bool = 33 <= 4\n",
        "print(result_equal)\n",
        "print(result_not_equal)\n",
        "print(result_greater_than)\n",
        "print(result_less_than)\n",
        "print(result_greater_equal)\n",
        "print(result_less_equal)"
      ]
    },
    {
      "cell_type": "code",
      "source": [
        "str1 = \"hello\"\n",
        "str2 = \"World\"\n",
        "print(str1 == str2)  # Output: False\n",
        "print(str1 != str2)  # Output: True\n",
        "print(str1 < str2)   # Output: True (since \"H\" comes before \"W\" lexicographically)"
      ],
      "metadata": {
        "colab": {
          "base_uri": "https://localhost:8080/"
        },
        "id": "F6xNqZJrWrL9",
        "outputId": "2cfdc42d-2bc2-4c49-c375-22e5a52034de"
      },
      "execution_count": null,
      "outputs": [
        {
          "output_type": "stream",
          "name": "stdout",
          "text": [
            "False\n",
            "True\n",
            "False\n"
          ]
        }
      ]
    },
    {
      "cell_type": "markdown",
      "source": [
        "#String Formatting (%, .format(), f-strings)\n",
        "Strings can be formatted using different methods."
      ],
      "metadata": {
        "id": "vTLMCPAqYio0"
      }
    },
    {
      "cell_type": "code",
      "source": [
        "name = \"Alice\n",
        "age = 30\n",
        "\n",
        "# Using % operator\n",
        "print(\"My name is %s and I am %d years old.\" % (name, age))  # Output: \"My name is Alice and I am 30 years old.\"\n",
        "\n",
        "# Using .format()\n",
        "print(\"My name is {} and I am {} years old.\".format(name, age))  # Output: \"My name is Alice and I am 30 years old.\"\n",
        "\n",
        "# Using f-strings (Python 3.6+)\n",
        "print(f\"My name is {name} and I am {age} years old.\")  # Output: \"My name is Alice and I am 30 years old.\""
      ],
      "metadata": {
        "colab": {
          "base_uri": "https://localhost:8080/"
        },
        "id": "s5hG7yNMYorl",
        "outputId": "0ce24713-1dc8-4447-d985-5a0f196932d5"
      },
      "execution_count": null,
      "outputs": [
        {
          "output_type": "stream",
          "name": "stdout",
          "text": [
            "My name is Alice and I am 30 years old.\n",
            "My name is Alice and I am 30 years old.\n",
            "My name is Alice and I am 30 years old.\n"
          ]
        }
      ]
    },
    {
      "cell_type": "markdown",
      "source": [
        "#input from user\n"
      ],
      "metadata": {
        "id": "2YT610TGMBAd"
      }
    },
    {
      "cell_type": "code",
      "source": [
        "name = input(\"Enter name\")\n",
        "age = input(\"Enter age\")\n",
        "\n",
        "\n",
        "# % operator istemal karne ke liye varible ki type bhi define karni pare gi\n",
        "# warna error de ga for example name=str(input(\"enter name\") Using % operator\n",
        "\n",
        "#print(\"My name is %s and I am %d years old.\" % (name, age))  # Output: \"My name is Alice and I am 30 years old.\"\n",
        "\n",
        "# Using .format()\n",
        "print(\"My name is {} and I am {} years old.\".format(name, age))  # Output: \"My name is Alice and I am 30 years old.\"\n",
        "\n",
        "# Using f-strings (Python 3.6+)\n",
        "print(f\"My name is {name} and I am {age} years old.\")  # Output: \"My name is Alice and I am 30 years old.\""
      ],
      "metadata": {
        "colab": {
          "base_uri": "https://localhost:8080/"
        },
        "id": "3KUTnbohFkb8",
        "outputId": "ac907d7e-0aca-4cec-88c8-15906dd81676"
      },
      "execution_count": null,
      "outputs": [
        {
          "output_type": "stream",
          "name": "stdout",
          "text": [
            "Enter namekiki\n",
            "Enter age22\n",
            "My name is kiki and I am 22 years old.\n",
            "My name is kiki and I am 22 years old.\n"
          ]
        }
      ]
    },
    {
      "cell_type": "code",
      "source": [
        "name,age=input(\"enter name and age\").lower().split()\n",
        "#IDER  do fuction use kiye hain  lower or split yuaha capital or\n",
        "#mazeed function bhi use kar sakty hain\n",
        "\n",
        "print(f\"my name is  : {name} & MY enter age is : {age}\") # f tring se print lia hai\n"
      ],
      "metadata": {
        "colab": {
          "base_uri": "https://localhost:8080/"
        },
        "id": "n9OKk6NEHrZJ",
        "outputId": "79819d67-c503-4e1d-e200-05f1d0edc4d3"
      },
      "execution_count": null,
      "outputs": [
        {
          "output_type": "stream",
          "name": "stdout",
          "text": [
            "enter name and agetahA 23\n",
            "my name is  : taha & MY enter age is : 23\n"
          ]
        }
      ]
    },
    {
      "cell_type": "code",
      "source": [
        "#simple input\n",
        "name=print(input(\"enter name: \")) #one line fuction we can take and print input on the same line\n",
        "#print(name)\n",
        "age=input(\"enter age: \")\n",
        "print(age)\n",
        "#we used split fuction to split two  inputs and sprated them with space\n",
        "\n",
        "x, y = input(\"Enter two numbers separated by space: \").split()\n",
        "print(f\"First number: {x}, Second number: {y}\")\n"
      ],
      "metadata": {
        "colab": {
          "base_uri": "https://localhost:8080/"
        },
        "id": "v4LKcR1zbxEa",
        "outputId": "7e3315bf-382d-4939-9715-5af35a945967"
      },
      "execution_count": null,
      "outputs": [
        {
          "output_type": "stream",
          "name": "stdout",
          "text": [
            "enter name: asad javed\n",
            "asad javed\n",
            "enter age: 11 22\n",
            "11 22\n",
            "Enter two numbers separated by space: 11 22\n",
            "First number: 11, Second number: 22\n"
          ]
        }
      ]
    },
    {
      "cell_type": "code",
      "source": [
        "name=input(\"enter name: \") #one line fuction we can take and print input on the same line\n",
        "\n",
        "print(f\"this is my name:{name} \")\n",
        "\n"
      ],
      "metadata": {
        "colab": {
          "base_uri": "https://localhost:8080/"
        },
        "id": "LQZXQY-UNJj_",
        "outputId": "ebf2a7f0-a805-4e77-eb7c-8d943960ad7e"
      },
      "execution_count": null,
      "outputs": [
        {
          "output_type": "stream",
          "name": "stdout",
          "text": [
            "enter name: kiki\n",
            "this is my name:kiki \n"
          ]
        }
      ]
    },
    {
      "cell_type": "code",
      "source": [
        "print(dir(name))"
      ],
      "metadata": {
        "id": "TQeG10d5kihy"
      },
      "execution_count": null,
      "outputs": []
    },
    {
      "cell_type": "code",
      "source": [
        "x, y = map(int, input(\"Enter two numbers separated by space: \").split())\n",
        "print(f\"First number: {x}, Second number: {y}\")"
      ],
      "metadata": {
        "colab": {
          "base_uri": "https://localhost:8080/"
        },
        "id": "NBUr-OYnb5Jw",
        "outputId": "ffd620ae-8c27-4c3c-e71b-0deb1c7ec1c9"
      },
      "execution_count": null,
      "outputs": [
        {
          "output_type": "stream",
          "name": "stdout",
          "text": [
            "Enter two numbers separated by space: 11 22\n",
            "First number: 11, Second number: 22\n"
          ]
        }
      ]
    },
    {
      "cell_type": "markdown",
      "source": [
        "#Tuple"
      ],
      "metadata": {
        "id": "PRF5NxMI_ADe"
      }
    },
    {
      "cell_type": "markdown",
      "source": [],
      "metadata": {
        "id": "e95IKQ3GMAbE"
      }
    },
    {
      "cell_type": "code",
      "source": [
        "student_roll=(1,2,3,4,5)#tupe is a immuteable data type for constat data we cann not change\n",
        "student_roll[1]\n"
      ],
      "metadata": {
        "colab": {
          "base_uri": "https://localhost:8080/"
        },
        "id": "2nCLz2wFiysP",
        "outputId": "db5aa7e0-19e0-4b63-a0b0-2e55ee9d29ab"
      },
      "execution_count": null,
      "outputs": [
        {
          "output_type": "execute_result",
          "data": {
            "text/plain": [
              "2"
            ]
          },
          "metadata": {},
          "execution_count": 1
        }
      ]
    },
    {
      "cell_type": "markdown",
      "source": [
        "#why we use tuple?"
      ],
      "metadata": {
        "id": "kRLL6AphMCXf"
      }
    },
    {
      "cell_type": "code",
      "source": [
        " #we use tuple q keh\n",
        " # list ke case me hum koi bhi item APPEND or POP kar sakty hai to chances hai ke\n",
        "# humari Student_ids me changes a jaye ager kissi point per 1000 line ka code\n",
        "# hai koi fuction add karty hue koi us me add kar sakta hai koi delet karsata\n",
        "# hai list me to allow hai ke app kar sakty hai lakin tuple ,me pythone allow\n",
        "# nhi karta ubh ager student ki ids ko list me rakha ho toh waha changing a jaye\n",
        "# toh humara data mixup ho sakta hai humara program crash hoskta hai bugs a sakta hai\n",
        "#hume pata chala  ke humare pas aik data type TUPLE hai  jo immuteable hai jiss ke ander values change nhi hoti\n",
        "# toh hum ne kha ke 1000 ke dataa per risk q len is liye hum ne koi bhi aise\n",
        "# chiz jis me changing nhi ani chye usko tuple me daly gy q ke jub bhi issko\n",
        "# access kia jaye toh iss me koi value add na ho saky koi pop na ho sky koi\n",
        "# change na hosaky\n"
      ],
      "metadata": {
        "id": "dvW5qG2iMDj_"
      },
      "execution_count": null,
      "outputs": []
    },
    {
      "cell_type": "code",
      "source": [
        "student_ids=(1,2,3,4,5,6,7,8,9,10)\n",
        "\n",
        "print(student_ids)"
      ],
      "metadata": {
        "id": "jyX_gvxBMGsZ"
      },
      "execution_count": null,
      "outputs": []
    },
    {
      "cell_type": "code",
      "source": [
        "student_roll=(1,2,3,4,5)\n",
        "print(id(student_roll))\n",
        "\n",
        "student_roll=(1,2,3,4)\n",
        "print(id(student_roll))"
      ],
      "metadata": {
        "colab": {
          "base_uri": "https://localhost:8080/"
        },
        "id": "hkXDwIc6jM_O",
        "outputId": "35d14246-8497-4468-c976-8cb375a2510c"
      },
      "execution_count": null,
      "outputs": [
        {
          "output_type": "stream",
          "name": "stdout",
          "text": [
            "132113152347408\n",
            "132113150037984\n"
          ]
        }
      ]
    },
    {
      "cell_type": "code",
      "source": [
        "#dfference b/w list and tuple\n",
        "# tuple me mameroy address change ho jata hai ager ap usme changes kare gy\n",
        "# every time its id mwemory location change with cahnges\n",
        "\n",
        "student_roll=(1,2,3,4,5)\n",
        "print(\"orignal tuple : \",id(student_roll))\n",
        "print(\"After cahnge in tuple now the memory adress change\")\n",
        "student_roll=(1,2,3,4)\n",
        "print(\"After change in tuple : \",id(student_roll))\n",
        "print(\"+++++++++++++++++ \")\n",
        "#tuple me mameroy address change nhi hota hai ager ap usme changes kare gy\n",
        "# every time its id memory location naver change with cahnges\n",
        "num_list=[1,2,3,4,5]\n",
        "print(\"orignal list\",id(num_list))\n",
        "\n",
        "num_list.append(6)\n",
        "print(\"after change in list \",id(num_list))\n",
        "print(\"this is called immutable and muteble\")"
      ],
      "metadata": {
        "colab": {
          "base_uri": "https://localhost:8080/"
        },
        "id": "S58iQLpqju2x",
        "outputId": "5bed7742-aec8-4c2b-e769-977b382a8f84"
      },
      "execution_count": null,
      "outputs": [
        {
          "output_type": "stream",
          "name": "stdout",
          "text": [
            "orignal tuple :  132113152344448\n",
            "after cahnge in tuple now the memory adress change\n",
            "After change in tuple :  132113150043184\n",
            "+++++++++++++++++ \n",
            "orignal list 132113150297152\n",
            "after change in list  132113150297152\n",
            "this is called immutable and muteble\n"
          ]
        }
      ]
    },
    {
      "cell_type": "code",
      "source": [
        "dir(student_roll)"
      ],
      "metadata": {
        "colab": {
          "base_uri": "https://localhost:8080/"
        },
        "id": "QIpuZfPWj-yu",
        "outputId": "9c2ea773-ce02-4255-d43b-d1557b51cc03"
      },
      "execution_count": null,
      "outputs": [
        {
          "output_type": "execute_result",
          "data": {
            "text/plain": [
              "['__add__',\n",
              " '__class__',\n",
              " '__class_getitem__',\n",
              " '__contains__',\n",
              " '__delattr__',\n",
              " '__dir__',\n",
              " '__doc__',\n",
              " '__eq__',\n",
              " '__format__',\n",
              " '__ge__',\n",
              " '__getattribute__',\n",
              " '__getitem__',\n",
              " '__getnewargs__',\n",
              " '__getstate__',\n",
              " '__gt__',\n",
              " '__hash__',\n",
              " '__init__',\n",
              " '__init_subclass__',\n",
              " '__iter__',\n",
              " '__le__',\n",
              " '__len__',\n",
              " '__lt__',\n",
              " '__mul__',\n",
              " '__ne__',\n",
              " '__new__',\n",
              " '__reduce__',\n",
              " '__reduce_ex__',\n",
              " '__repr__',\n",
              " '__rmul__',\n",
              " '__setattr__',\n",
              " '__sizeof__',\n",
              " '__str__',\n",
              " '__subclasshook__',\n",
              " 'count',\n",
              " 'index']"
            ]
          },
          "metadata": {},
          "execution_count": 45
        }
      ]
    },
    {
      "cell_type": "markdown",
      "source": [
        "#Tuple fuctions\n",
        "tuple has only two funtions\n",
        "count\n",
        "\n",
        "*   count\n",
        "*   index\n"
      ],
      "metadata": {
        "id": "FH1bmv15p2Xb"
      }
    },
    {
      "cell_type": "code",
      "source": [
        "student_roll1=(1,2,3,4,5,6,123,8,9,10,11,12,13,141,1512221,112,1123)\n",
        "print(student_roll1.count(8)) # it will cout the numer of time the value repeat\n",
        "print(student_roll1.index(112)) #it will tell the index of the value\n",
        "# and if you want to access the value using indexing wo alag chiz hai like down\n",
        "# below\n",
        "print(student_roll1[2])#print value on index 2\n",
        "print(student_roll1[2:10:]) # print value  from 2 to index 10\n",
        "print(student_roll1[2:10:2]) #print value from 2 to 10 with step 2\n"
      ],
      "metadata": {
        "colab": {
          "base_uri": "https://localhost:8080/"
        },
        "id": "u-AqpxAuqgHz",
        "outputId": "e9a25d79-29cd-4235-db84-85fe29c35f3f"
      },
      "execution_count": null,
      "outputs": [
        {
          "output_type": "stream",
          "name": "stdout",
          "text": [
            "1\n",
            "15\n",
            "3\n",
            "(3, 4, 5, 6, 123, 8, 9, 10)\n",
            "(3, 5, 123, 9)\n"
          ]
        }
      ]
    },
    {
      "cell_type": "code",
      "source": [
        "dir(tuple)\n"
      ],
      "metadata": {
        "colab": {
          "base_uri": "https://localhost:8080/"
        },
        "id": "mTICigEitPZz",
        "outputId": "09f576bd-8ca3-4736-8e67-e2d153b96b3d"
      },
      "execution_count": null,
      "outputs": [
        {
          "output_type": "execute_result",
          "data": {
            "text/plain": [
              "['__add__',\n",
              " '__class__',\n",
              " '__class_getitem__',\n",
              " '__contains__',\n",
              " '__delattr__',\n",
              " '__dir__',\n",
              " '__doc__',\n",
              " '__eq__',\n",
              " '__format__',\n",
              " '__ge__',\n",
              " '__getattribute__',\n",
              " '__getitem__',\n",
              " '__getnewargs__',\n",
              " '__getstate__',\n",
              " '__gt__',\n",
              " '__hash__',\n",
              " '__init__',\n",
              " '__init_subclass__',\n",
              " '__iter__',\n",
              " '__le__',\n",
              " '__len__',\n",
              " '__lt__',\n",
              " '__mul__',\n",
              " '__ne__',\n",
              " '__new__',\n",
              " '__reduce__',\n",
              " '__reduce_ex__',\n",
              " '__repr__',\n",
              " '__rmul__',\n",
              " '__setattr__',\n",
              " '__sizeof__',\n",
              " '__str__',\n",
              " '__subclasshook__',\n",
              " 'count',\n",
              " 'index']"
            ]
          },
          "metadata": {},
          "execution_count": 44
        }
      ]
    },
    {
      "cell_type": "code",
      "source": [
        "student_roll1\n",
        "print(student_roll1)\n",
        "print(len(student_roll1))\n",
        "print(max(student_roll1))# print higer value in tuple\n",
        "print(min(student_roll1))# min value in tuple\n",
        "student_nametup= (\"asad\",\"ali\",\"taha\",\"zubair\",\"shahid\",\"faizan\",\"zyzu\")\n",
        "print(max(student_nametup))# max value  by alphabets\n",
        "print(min(student_nametup))# min value  by alphabets\n",
        "\n"
      ],
      "metadata": {
        "colab": {
          "base_uri": "https://localhost:8080/"
        },
        "id": "XWdjdkDvwNun",
        "outputId": "95cd23e4-9039-4d8a-93cb-d60cdc7c1c44"
      },
      "execution_count": null,
      "outputs": [
        {
          "output_type": "stream",
          "name": "stdout",
          "text": [
            "(1, 2, 3, 4, 5, 6, 123, 8, 9, 10, 11, 12, 13, 141, 1512221, 112, 1123)\n",
            "17\n",
            "1512221\n",
            "1\n",
            "zyzu\n",
            "ali\n"
          ]
        }
      ]
    },
    {
      "cell_type": "code",
      "source": [
        "#asciI code\n",
        "print(ord(\"A\"))\n",
        "print(ord(\"a\"))\n",
        "print(ord(\"Z\"))\n",
        "print(ord(\"z\"))"
      ],
      "metadata": {
        "colab": {
          "base_uri": "https://localhost:8080/"
        },
        "id": "kMf5hIH5x-bV",
        "outputId": "71ccde48-effc-4f8a-8e68-50a012dc5cf7"
      },
      "execution_count": null,
      "outputs": [
        {
          "output_type": "stream",
          "name": "stdout",
          "text": [
            "65\n",
            "97\n",
            "90\n",
            "122\n"
          ]
        }
      ]
    },
    {
      "cell_type": "markdown",
      "source": [
        "#ager ap varibale assign kar ke qoma laga daity ho toh tuple ban jaye ga"
      ],
      "metadata": {
        "id": "Ed02oefX0PSV"
      }
    },
    {
      "cell_type": "code",
      "source": [
        "\n",
        "first_number = 4,    #hum tuple ko samll brackets me   qoma spratet likhty hai (1,1,2) or (2) or 1,\n",
        "\n",
        "print(first_number)\n",
        "print(type(first_number))\n",
        "\n",
        "f_num=4\n",
        "print(f_num)\n",
        "print(type(f_num))"
      ],
      "metadata": {
        "colab": {
          "base_uri": "https://localhost:8080/"
        },
        "id": "YAporTyazzcf",
        "outputId": "27528048-3942-4671-9aed-7f9d13b7c064"
      },
      "execution_count": null,
      "outputs": [
        {
          "output_type": "stream",
          "name": "stdout",
          "text": [
            "(4,)\n",
            "<class 'tuple'>\n",
            "4\n",
            "<class 'int'>\n"
          ]
        }
      ]
    },
    {
      "cell_type": "code",
      "source": [
        "num_list=[5]*3\n",
        "print(\"list:\",num_list)\n",
        "num_tup= (5,)*3\n",
        "num_tup"
      ],
      "metadata": {
        "colab": {
          "base_uri": "https://localhost:8080/"
        },
        "id": "YwCn0cW9FmeR",
        "outputId": "fb384f26-6851-4e5a-9dcf-906aa04c84ba"
      },
      "execution_count": null,
      "outputs": [
        {
          "output_type": "stream",
          "name": "stdout",
          "text": [
            "list: [5, 5, 5]\n"
          ]
        },
        {
          "output_type": "execute_result",
          "data": {
            "text/plain": [
              "(5, 5, 5)"
            ]
          },
          "metadata": {},
          "execution_count": 4
        }
      ]
    },
    {
      "cell_type": "markdown",
      "source": [
        "tuple unpaking"
      ],
      "metadata": {
        "id": "F-tnadquGkv2"
      }
    },
    {
      "cell_type": "code",
      "source": [
        "score=(10,20) #unpak\n",
        "x,y=score #tuple unpaking\n",
        "\n",
        "print(x)\n",
        "print(y)"
      ],
      "metadata": {
        "id": "HoVWk6SCIDD5"
      },
      "execution_count": null,
      "outputs": []
    },
    {
      "cell_type": "code",
      "source": [
        "score=(10,20,30) #unpak\n",
        "x,y=score #tuple unpaking\n",
        "#yaha per teen values hoti ager score=(10,2,30) phr ager hum uper wali\n",
        "#unpaking ki command dety toh expected value ka error ata\n",
        "#iss liye jitne value hongi utny valiable assign karna zaroori hai\n",
        "\n",
        "print(x)\n",
        "print(y)\n"
      ],
      "metadata": {
        "colab": {
          "base_uri": "https://localhost:8080/",
          "height": 220
        },
        "id": "AFjDblMYG8_s",
        "outputId": "87d2408d-98ee-4886-9c20-52f3ceeaa391"
      },
      "execution_count": null,
      "outputs": [
        {
          "output_type": "error",
          "ename": "ValueError",
          "evalue": "too many values to unpack (expected 2)",
          "traceback": [
            "\u001b[0;31m---------------------------------------------------------------------------\u001b[0m",
            "\u001b[0;31mValueError\u001b[0m                                Traceback (most recent call last)",
            "\u001b[0;32m<ipython-input-6-60892089da4c>\u001b[0m in \u001b[0;36m<cell line: 0>\u001b[0;34m()\u001b[0m\n\u001b[1;32m      1\u001b[0m \u001b[0mscore\u001b[0m\u001b[0;34m=\u001b[0m\u001b[0;34m(\u001b[0m\u001b[0;36m10\u001b[0m\u001b[0;34m,\u001b[0m\u001b[0;36m20\u001b[0m\u001b[0;34m,\u001b[0m\u001b[0;36m30\u001b[0m\u001b[0;34m)\u001b[0m \u001b[0;31m#unpak\u001b[0m\u001b[0;34m\u001b[0m\u001b[0;34m\u001b[0m\u001b[0m\n\u001b[0;32m----> 2\u001b[0;31m \u001b[0mx\u001b[0m\u001b[0;34m,\u001b[0m\u001b[0my\u001b[0m\u001b[0;34m=\u001b[0m\u001b[0mscore\u001b[0m \u001b[0;31m#tuple unpaking\u001b[0m\u001b[0;34m\u001b[0m\u001b[0;34m\u001b[0m\u001b[0m\n\u001b[0m\u001b[1;32m      3\u001b[0m \u001b[0;31m#yaha per teen values hoti ager score=(10,2,30) phr ager hum uper wali\u001b[0m\u001b[0;34m\u001b[0m\u001b[0;34m\u001b[0m\u001b[0m\n\u001b[1;32m      4\u001b[0m \u001b[0;31m#unpaking ki command dety toh expected value ka error ata\u001b[0m\u001b[0;34m\u001b[0m\u001b[0;34m\u001b[0m\u001b[0m\n\u001b[1;32m      5\u001b[0m \u001b[0;31m#iss liye jitne value hongi utny valiable assign karna zaroori hai\u001b[0m\u001b[0;34m\u001b[0m\u001b[0;34m\u001b[0m\u001b[0m\n",
            "\u001b[0;31mValueError\u001b[0m: too many values to unpack (expected 2)"
          ]
        }
      ]
    },
    {
      "cell_type": "code",
      "source": [
        "score=(10,20,30) #unpak\n",
        "x,y,z=score #tuple unpaking\n",
        "\n",
        "print(x)\n",
        "print(y)\n",
        "print(z)"
      ],
      "metadata": {
        "colab": {
          "base_uri": "https://localhost:8080/"
        },
        "id": "wX5e25ceHX5a",
        "outputId": "3750449b-2a9a-410f-ecf6-e889449feacc"
      },
      "execution_count": null,
      "outputs": [
        {
          "output_type": "stream",
          "name": "stdout",
          "text": [
            "10\n",
            "20\n",
            "30\n"
          ]
        }
      ]
    },
    {
      "cell_type": "code",
      "source": [
        "teacher_name=(\"ali\",\"asad\",\"taha\")\n",
        "print(teacher_name)\n",
        "print(teacher_name[0]) #0 index per ali hai\n",
        "print(teacher_name.index(\"ali\")) #ali ka index 0 hai\n",
        "print(teacher_name.count(\"ali\"))# ali one time aya hai toh 1 aye ga result"
      ],
      "metadata": {
        "colab": {
          "base_uri": "https://localhost:8080/"
        },
        "id": "rFZp1eivIcTb",
        "outputId": "a46cc06a-dcb6-473a-f1a8-17edaecd6420"
      },
      "execution_count": null,
      "outputs": [
        {
          "output_type": "stream",
          "name": "stdout",
          "text": [
            "('ali', 'asad', 'taha')\n",
            "ali\n",
            "0\n",
            "1\n"
          ]
        }
      ]
    },
    {
      "cell_type": "markdown",
      "source": [
        "#sets"
      ],
      "metadata": {
        "id": "PGXTqrIALVVY"
      }
    },
    {
      "cell_type": "code",
      "source": [
        "num_set={1,2,3,4,5,6,7,8,9,10} # hum dictionary ki traha set ko {} me use kar ke bnaye gy\n",
        "print(num_set)"
      ],
      "metadata": {
        "colab": {
          "base_uri": "https://localhost:8080/"
        },
        "id": "PW2Rx2TYJLGA",
        "outputId": "97c42865-c713-4772-d9ee-7bbd79b78d83"
      },
      "execution_count": null,
      "outputs": [
        {
          "output_type": "stream",
          "name": "stdout",
          "text": [
            "['ali', 'asad', 'taha']\n"
          ]
        }
      ]
    },
    {
      "cell_type": "markdown",
      "source": [
        "#why we use set?"
      ],
      "metadata": {
        "id": "d4euJE4rIsba"
      }
    },
    {
      "cell_type": "code",
      "source": [
        "# mere pas aik list hai jis me mene invitation bhjna hai apne dosto ko ke khana\n",
        "# ke dawat hai ubh list me ali ko 2 bar hone ki awaja se do bar invitation chala\n",
        "# jaye ga repetion me\n",
        "guest_list=[\"ali\",\"asad\",\"ali\",\"taha\"] # m\n",
        "print(guest_list)\n"
      ],
      "metadata": {
        "colab": {
          "base_uri": "https://localhost:8080/"
        },
        "id": "BtRYVbynNZXF",
        "outputId": "5c5aa53b-62de-4aa8-82c3-b0fbb75531b9"
      },
      "execution_count": null,
      "outputs": [
        {
          "output_type": "stream",
          "name": "stdout",
          "text": [
            "['ali', 'asad', 'ali', 'taha']\n"
          ]
        }
      ]
    },
    {
      "cell_type": "markdown",
      "source": [
        "#ya mere pas aik grosery item ki list hai jiss me  oil 2 bar a gya hai\n"
      ],
      "metadata": {
        "id": "84VlwT_lO3SB"
      }
    },
    {
      "cell_type": "code",
      "source": [
        "grosery_list=[\"soap\",\"oil\",\"water\",\"oil\",\"chips\"]\n",
        "print(grosery_list)"
      ],
      "metadata": {
        "colab": {
          "base_uri": "https://localhost:8080/"
        },
        "id": "XXfkat-VO5-Q",
        "outputId": "26d47986-a504-469f-ba4a-fcc91c812d1b"
      },
      "execution_count": null,
      "outputs": [
        {
          "output_type": "stream",
          "name": "stdout",
          "text": [
            "['soap', 'oil', 'water', 'oil', 'chips']\n"
          ]
        }
      ]
    },
    {
      "cell_type": "markdown",
      "source": [
        "#ub repetion se bachny ke liye sets ko use kia jata  hai"
      ],
      "metadata": {
        "id": "8HJo3zv7PDIL"
      }
    },
    {
      "cell_type": "code",
      "source": [
        "grosery_set={\"soap\",\"oil\",\"water\",\"oil\",\"chips\"}\n",
        "print(grosery_set)\n",
        "#output me repetion khatam"
      ],
      "metadata": {
        "colab": {
          "base_uri": "https://localhost:8080/"
        },
        "id": "S5phweHJPOv2",
        "outputId": "5f65b5ce-4cd5-4799-f6f9-31729b535cfd"
      },
      "execution_count": null,
      "outputs": [
        {
          "output_type": "stream",
          "name": "stdout",
          "text": [
            "{'water', 'oil', 'soap', 'chips'}\n"
          ]
        }
      ]
    },
    {
      "cell_type": "code",
      "source": [
        "num_set0={1,2,3,3,4,5,7,7,9,10} # hum dictionary ki traha set ko {} me use kar ke bnaye gy\n",
        "print(num_set0)"
      ],
      "metadata": {
        "colab": {
          "base_uri": "https://localhost:8080/"
        },
        "id": "K0RQngtzPsii",
        "outputId": "2df238a3-c749-4c0e-af5b-4c0364d14e1e"
      },
      "execution_count": null,
      "outputs": [
        {
          "output_type": "stream",
          "name": "stdout",
          "text": [
            "{1, 2, 3, 4, 5, 7, 9, 10}\n"
          ]
        }
      ]
    },
    {
      "cell_type": "markdown",
      "source": [
        "#set me repetion khatam kar di jati hai set me tamam element unique value rakhy jaty hai ager repetion bhi karty hai tub bhi output me fine result aye ga"
      ],
      "metadata": {
        "id": "tcfvCVT6P8-_"
      }
    },
    {
      "cell_type": "code",
      "source": [
        "# prompt: example of sets  methods with explanation\n",
        "\n",
        "# Example sets\n",
        "set1 = {1, 2, 3, 4, 5}\n",
        "set2 = {4, 5, 6, 7, 8}\n",
        "set3 = {1, 2, 3}\n",
        "set4 = {9, 10}\n",
        "\n",
        "print(f\"Set 1: {set1}\")\n",
        "print(f\"Set 2: {set2}\")\n",
        "print(f\"Set 3: {set3}\")\n",
        "print(f\"Set 4: {set4}\\n\")\n",
        "\n",
        "# 1. add(element)\n",
        "# Adds an element to the set. If the element is already present, nothing happens.\n",
        "print(\"1. add(element):\")\n",
        "set1.add(6)\n",
        "print(f\"After adding 6 to set1: {set1}\\n\")\n",
        "\n",
        "# 2. remove(element)\n",
        "# Removes the specified element from the set. Raises a KeyError if the element is not found.\n",
        "print(\"2. remove(element):\")\n",
        "try:\n",
        "  set1.remove(6)\n",
        "  print(f\"After removing 6 from set1: {set1}\")\n",
        "  # Trying to remove an element that doesn't exist\n",
        "  # set1.remove(10)\n",
        "except KeyError:\n",
        "  print(\"Element not found when trying to remove.\")\n",
        "print(\"-\" * 20)\n",
        "\n",
        "# 3. discard(element)\n",
        "# Removes the specified element from the set. Unlike remove(), it does NOT raise a KeyError if the element is not found.\n",
        "print(\"3. discard(element):\")\n",
        "set1.discard(5)\n",
        "print(f\"After discarding 5 from set1: {set1}\")\n",
        "set1.discard(10) # Element 10 is not in set1, but no error\n",
        "print(f\"After discarding 10 from set1 (no error): {set1}\\n\")\n",
        "\n",
        "# 4. pop()\n",
        "# Removes and returns an arbitrary element from the set. Raises a KeyError if the set is empty.\n",
        "print(\"4. pop():\")\n",
        "arbitrary_element = set1.pop()\n",
        "print(f\"Popped element from set1: {arbitrary_element}\")\n",
        "print(f\"Set1 after popping: {set1}\\n \")\n"
      ],
      "metadata": {
        "colab": {
          "base_uri": "https://localhost:8080/"
        },
        "id": "syfVsGBZSMoU",
        "outputId": "2a33c384-91b0-45d5-a0b9-3ecbbdc3607b"
      },
      "execution_count": null,
      "outputs": [
        {
          "output_type": "stream",
          "name": "stdout",
          "text": [
            "Set 1: {1, 2, 3, 4, 5}\n",
            "Set 2: {4, 5, 6, 7, 8}\n",
            "Set 3: {1, 2, 3}\n",
            "Set 4: {9, 10}\n",
            "\n",
            "1. add(element):\n",
            "After adding 6 to set1: {1, 2, 3, 4, 5, 6}\n",
            "\n",
            "2. remove(element):\n",
            "After removing 6 from set1: {1, 2, 3, 4, 5}\n",
            "--------------------\n",
            "3. discard(element):\n",
            "After discarding 5 from set1: {1, 2, 3, 4}\n",
            "After discarding 10 from set1 (no error): {1, 2, 3, 4}\n",
            "\n",
            "4. pop():\n",
            "Popped element from set1: 1\n",
            "Set1 after popping: {2, 3, 4}\n",
            " nanapatekar{4, 5, 6, 7, 8}\n"
          ]
        }
      ]
    },
    {
      "cell_type": "code",
      "source": [
        "\n",
        "# 5. clear()\n",
        "# Removes all elements from the set.\n",
        "print(\"5. clear():\")\n",
        "temp_set = {1, 2, 3}\n",
        "print(f\"Temporary set before clear: {temp_set}\")\n",
        "temp_set.clear()\n",
        "print(f\"Temporary set after clear: {temp_set}\\n\")\n",
        "\n",
        "# 6. union(other_set) or set1 | set2\n",
        "# Returns a new set with elements from both sets (no duplicates).\n",
        "print(\"6. union(other_set):\")\n",
        "union_set = set1.union(set2)\n",
        "print(f\"Union of set1 and set2: {union_set}\")\n",
        "print(f\"Using operator |: {set1 | set2}\\n\")\n",
        "\n",
        "# 7. intersection(other_set) or set1 & set2\n",
        "# Returns a new set with only the elements common to both sets.\n",
        "print(\"7. intersection(other_set):\")\n",
        "intersection_set = set1.intersection(set2)\n",
        "print(f\"Intersection of set1 and set2: {intersection_set}\")\n",
        "print(f\"Using operator &: {set1 & set2}\\n\")\n",
        "\n",
        "# 8. difference(other_set) or set1 - set2\n",
        "# Returns a new set with elements in the first set but not in the second set.\n",
        "print(\"8. difference(other_set):\")\n",
        "difference_set = set1.difference(set2)\n",
        "print(f\"Elements in set1 but not in set2: {difference_set}\")\n",
        "print(f\"Using operator -: {set1 - set2}\\n\")\n",
        "\n",
        "# 9. symmetric_difference(other_set) or set1 ^ set2\n",
        "# Returns a new set with elements in either set1 or set2 but not in both.\n",
        "print(\"9. symmetric_difference(other_set):\")\n",
        "symmetric_difference_set = set1.symmetric_difference(set2)\n",
        "print(f\"Elements in either set1 or set2 but not both: {symmetric_difference_set}\")\n",
        "print(f\"Using operator ^: {set1 ^ set2}\\n\")\n",
        "\n",
        "# 10. issubset(other_set) or set1 <= set2\n",
        "# Returns True if all elements in set1 are also in set2.\n",
        "print(\"10. issubset(other_set):\")\n",
        "print(f\"Is set3 a subset of set1? {set3.issubset(set1)}\")\n",
        "print(f\"Using operator <=: {set3 <= set1}\\n\")\n",
        "\n",
        "# 11. issuperset(other_set) or set1 >= set2\n",
        "# Returns True if all elements in set2 are also in set1.\n",
        "print(\"11. issuperset(other_set):\")\n",
        "print(f\"Is set1 a superset of set3? {set1.issuperset(set3)}\")\n",
        "print(f\"Using operator >=: {set1 >= set3}\\n\")\n",
        "\n",
        "# 12. isdisjoint(other_set)\n",
        "# Returns True if the set has no elements in common with other_set.\n",
        "print(\"12. isdisjoint(other_set):\")\n",
        "print(f\"Is set1 disjoint from set4? {set1.isdisjoint(set4)}\")\n",
        "print(f\"Is set1 disjoint from set2? {set1.isdisjoint(set2)}\\n\")\n",
        "\n",
        "# In-place update methods (modify the original set):\n",
        "# 13. update(other_set) or set1 |= set2\n",
        "# Adds elements from other_set to the current set.\n",
        "print(\"13. update(other_set):\")\n",
        "set1_copy = set1.copy() # Work on a copy\n",
        "set1_copy.update(set4)\n",
        "print(f\"Set1 copy after updating with set4: {set1_copy}\")\n",
        "set1_copy_op = set1.copy()\n",
        "set1_copy_op |= set4\n",
        "print(f\"Set1 copy after updating with set4 (operator): {set1_copy_op}\\n\")\n",
        "\n",
        "# 14. intersection_update(other_set) or set1 &= set2\n",
        "# Removes elements from the set that are not present in the other_set.\n",
        "print(\"14. intersection_update(other_set):\")\n",
        "set1_copy = set1.copy()\n",
        "set1_copy.intersection_update(set2)\n",
        "print(f\"Set1 copy after intersection_update with set2: {set1_copy}\")\n",
        "set1_copy_op = set1.copy()\n",
        "set1_copy_op &= set2\n",
        "print(f\"Set1 copy after intersection_update with set2 (operator): {set1_copy_op}\\n\")\n",
        "\n",
        "# 15. difference_update(other_set) or set1 -= set2\n",
        "# Removes elements from the set that are present in the other_set.\n",
        "print(\"15. difference_update(other_set):\")\n",
        "set1_copy = set1.copy()\n",
        "set1_copy.difference_update(set2)\n",
        "print(f\"Set1 copy after difference_update with set2: {set1_copy}\")\n",
        "set1_copy_op = set1.copy()\n",
        "set1_copy_op -= set2\n",
        "print(f\"Set1 copy after difference_update with set2 (operator): {set1_copy_op}\\n\")\n",
        "\n",
        "# 16. symmetric_difference_update(other_set) or set1 ^= set2\n",
        "# Updates the set with elements in either set1 or set2 but not both.\n",
        "print(\"16. symmetric_difference_update(other_set):\")\n",
        "set1_copy = set1.copy()\n",
        "set1_copy.symmetric_difference_update(set2)\n",
        "print(f\"Set1 copy after symmetric_difference_update with set2: {set1_copy}\")\n",
        "set1_copy_op = set1.copy()\n",
        "set1_copy_op ^= set2\n",
        "print(f\"Set1 copy after symmetric_difference_update with set2 (operator): {set1_copy_op}\\n\")\n",
        "\n",
        "# 17. copy()\n",
        "# Returns a shallow copy of the set.\n",
        "print(\"17. copy():\")\n",
        "set_original = {1, 2, 3}\n",
        "set_copy = set_original.copy()\n",
        "print(f\"Original set: {set_original}\")\n",
        "print(f\"Copied set: {set_copy}\")\n",
        "print(f\"Are they the same object? {set_original is set_copy}\") # False, they are different objects\n",
        "set_original.add(4)\n",
        "print(f\"Original set after add: {set_original}\")\n",
        "print(f\"Copied set after original changed: {set_copy}\\n\")\n"
      ],
      "metadata": {
        "colab": {
          "base_uri": "https://localhost:8080/"
        },
        "id": "wqoPllGrP-Z7",
        "outputId": "c07e37e3-8f4c-43c3-d3b7-d6d5a980d252"
      },
      "execution_count": null,
      "outputs": [
        {
          "output_type": "stream",
          "name": "stdout",
          "text": [
            "Set 1: {1, 2, 3, 4, 5}\n",
            "Set 2: {4, 5, 6, 7, 8}\n",
            "Set 3: {1, 2, 3}\n",
            "Set 4: {9, 10}\n",
            "\n",
            "1. add(element):\n",
            "After adding 6 to set1: {1, 2, 3, 4, 5, 6}\n",
            "\n",
            "2. remove(element):\n",
            "After removing 6 from set1: {1, 2, 3, 4, 5}\n",
            "--------------------\n",
            "3. discard(element):\n",
            "After discarding 5 from set1: {1, 2, 3, 4}\n",
            "After discarding 10 from set1 (no error): {1, 2, 3, 4}\n",
            "\n",
            "4. pop():\n",
            "Popped element from set1: 1\n",
            "Set1 after popping: {2, 3, 4}\n",
            "\n",
            "5. clear():\n",
            "Temporary set before clear: {1, 2, 3}\n",
            "Temporary set after clear: set()\n",
            "\n",
            "6. union(other_set):\n",
            "Union of set1 and set2: {2, 3, 4, 5, 6, 7, 8}\n",
            "Using operator |: {2, 3, 4, 5, 6, 7, 8}\n",
            "\n",
            "7. intersection(other_set):\n",
            "Intersection of set1 and set2: {4}\n",
            "Using operator &: {4}\n",
            "\n",
            "8. difference(other_set):\n",
            "Elements in set1 but not in set2: {2, 3}\n",
            "Using operator -: {2, 3}\n",
            "\n",
            "9. symmetric_difference(other_set):\n",
            "Elements in either set1 or set2 but not both: {2, 3, 5, 6, 7, 8}\n",
            "Using operator ^: {2, 3, 5, 6, 7, 8}\n",
            "\n",
            "10. issubset(other_set):\n",
            "Is set3 a subset of set1? False\n",
            "Using operator <=: False\n",
            "\n",
            "11. issuperset(other_set):\n",
            "Is set1 a superset of set3? False\n",
            "Using operator >=: False\n",
            "\n",
            "12. isdisjoint(other_set):\n",
            "Is set1 disjoint from set4? True\n",
            "Is set1 disjoint from set2? False\n",
            "\n",
            "13. update(other_set):\n",
            "Set1 copy after updating with set4: {2, 3, 4, 9, 10}\n",
            "Set1 copy after updating with set4 (operator): {2, 3, 4, 9, 10}\n",
            "\n",
            "14. intersection_update(other_set):\n",
            "Set1 copy after intersection_update with set2: {4}\n",
            "Set1 copy after intersection_update with set2 (operator): {4}\n",
            "\n",
            "15. difference_update(other_set):\n",
            "Set1 copy after difference_update with set2: {2, 3}\n",
            "Set1 copy after difference_update with set2 (operator): {2, 3}\n",
            "\n",
            "16. symmetric_difference_update(other_set):\n",
            "Set1 copy after symmetric_difference_update with set2: {2, 3, 5, 6, 7, 8}\n",
            "Set1 copy after symmetric_difference_update with set2 (operator): {2, 3, 5, 6, 7, 8}\n",
            "\n",
            "17. copy():\n",
            "Original set: {1, 2, 3}\n",
            "Copied set: {1, 2, 3}\n",
            "Are they the same object? False\n",
            "Original set after add: {1, 2, 3, 4}\n",
            "Copied set after original changed: {1, 2, 3}\n",
            "\n"
          ]
        }
      ]
    },
    {
      "cell_type": "code",
      "source": [],
      "metadata": {
        "id": "bMpsWCxGSDwy"
      },
      "execution_count": null,
      "outputs": []
    }
  ]
}