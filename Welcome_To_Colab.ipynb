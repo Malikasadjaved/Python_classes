{
  "cells": [
    {
      "cell_type": "markdown",
      "metadata": {
        "id": "view-in-github",
        "colab_type": "text"
      },
      "source": [
        "<a href=\"https://colab.research.google.com/github/Malikasadjaved/Python_classes/blob/main/Welcome_To_Colab.ipynb\" target=\"_parent\"><img src=\"https://colab.research.google.com/assets/colab-badge.svg\" alt=\"Open In Colab\"/></a>"
      ]
    },
    {
      "cell_type": "code",
      "source": [
        "message= \" Hello\"\n",
        "print(message*3)"
      ],
      "metadata": {
        "id": "ozstV6LzeyqJ",
        "outputId": "773003f3-7050-4d4f-ed51-357d00164d35",
        "colab": {
          "base_uri": "https://localhost:8080/"
        }
      },
      "execution_count": 1,
      "outputs": [
        {
          "output_type": "stream",
          "name": "stdout",
          "text": [
            " Hello Hello Hello\n"
          ]
        }
      ]
    },
    {
      "cell_type": "code",
      "source": [],
      "metadata": {
        "id": "fyvzyc3NfNtB"
      },
      "execution_count": null,
      "outputs": []
    },
    {
      "cell_type": "markdown",
      "source": [
        "'in'\n",
        "'not in'"
      ],
      "metadata": {
        "id": "On4_URelfQnu"
      }
    },
    {
      "cell_type": "code",
      "source": [
        "greetings=\"Hello Asad\"\n",
        "print(\"As\" not in greetings)\n",
        "print(\"ad\" in greetings)"
      ],
      "metadata": {
        "id": "6mZr-hQYfZ9i",
        "outputId": "8320b0e3-ac84-4c0c-bf09-079e954477f2",
        "colab": {
          "base_uri": "https://localhost:8080/"
        }
      },
      "execution_count": 6,
      "outputs": [
        {
          "output_type": "stream",
          "name": "stdout",
          "text": [
            "False\n",
            "True\n"
          ]
        }
      ]
    },
    {
      "cell_type": "code",
      "source": [],
      "metadata": {
        "id": "_mJlbHElfdjW"
      },
      "execution_count": 1,
      "outputs": []
    },
    {
      "cell_type": "markdown",
      "source": [
        "Sequence in strings index"
      ],
      "metadata": {
        "id": "ST6m15NSf7pb"
      }
    },
    {
      "cell_type": "code",
      "source": [
        "message_1=\"Hello what is your name\"\n",
        "print(message_1[0])\n",
        "print(len(message_1))"
      ],
      "metadata": {
        "id": "fEyoMKzmfd4c",
        "outputId": "740dd38d-40a7-48b9-e0a0-0aa9673a2f7a",
        "colab": {
          "base_uri": "https://localhost:8080/"
        }
      },
      "execution_count": 10,
      "outputs": [
        {
          "output_type": "stream",
          "name": "stdout",
          "text": [
            "H\n",
            "23\n"
          ]
        }
      ]
    },
    {
      "cell_type": "markdown",
      "source": [
        "String Formating"
      ],
      "metadata": {
        "id": "BwW6S5pGhzBw"
      }
    },
    {
      "cell_type": "code",
      "source": [
        "name =\"Asad\"\n",
        "age= 30\n",
        "#using % operator\n",
        "print(\"My name is %s and i am %d years old\"%(name,age))"
      ],
      "metadata": {
        "id": "lj1OqR7lh_Wb",
        "outputId": "694a9fcb-935c-4b29-8bc3-5871a316cde2",
        "colab": {
          "base_uri": "https://localhost:8080/"
        }
      },
      "execution_count": 14,
      "outputs": [
        {
          "output_type": "stream",
          "name": "stdout",
          "text": [
            "My name is Asad and i am 30 years old\n"
          ]
        }
      ]
    },
    {
      "cell_type": "markdown",
      "source": [
        "Quree =”Responce me in a  {Prefrence} maneer”"
      ],
      "metadata": {
        "id": "qHc3in_9ja3B"
      }
    },
    {
      "cell_type": "markdown",
      "source": [
        " # using {} with dot format"
      ],
      "metadata": {
        "id": "xsMoYDpfmXLs"
      }
    },
    {
      "cell_type": "code",
      "source": [
        "name =\"Asad\"\n",
        "age= 30\n",
        "#using {} . Formate\n",
        "print(\"My name is {} and i am {} years old\".format(name, age) )"
      ],
      "metadata": {
        "id": "6UfYvaEflSQ5",
        "outputId": "176e5190-ebe5-46af-b88d-c3885d6a22e0",
        "colab": {
          "base_uri": "https://localhost:8080/"
        }
      },
      "execution_count": 15,
      "outputs": [
        {
          "output_type": "stream",
          "name": "stdout",
          "text": [
            "My name is Asad and i am 30 years old\n"
          ]
        }
      ]
    },
    {
      "cell_type": "markdown",
      "source": [
        "#Using f sting"
      ],
      "metadata": {
        "id": "PEAjsngRmPNV"
      }
    },
    {
      "cell_type": "code",
      "source": [
        "name =\"Asad\"\n",
        "age= 30\n",
        "#using f-String\n",
        "print(f\"My name is {name} and i am {age} years old\")"
      ],
      "metadata": {
        "id": "wuXMktnzlqy0",
        "outputId": "81c89fc4-a935-4195-f8b4-a6ae84095607",
        "colab": {
          "base_uri": "https://localhost:8080/"
        }
      },
      "execution_count": 16,
      "outputs": [
        {
          "output_type": "stream",
          "name": "stdout",
          "text": [
            "My name is Asad and i am 30 years old\n"
          ]
        }
      ]
    },
    {
      "cell_type": "markdown",
      "source": [
        "# Escape sequence"
      ],
      "metadata": {
        "id": "SErfwk1NmvKD"
      }
    },
    {
      "cell_type": "code",
      "source": [
        "#Escape Charecter for using single qout ' use /\n",
        "greetings=(\"This is Asad\\'s home\")\n",
        "print(greetings)"
      ],
      "metadata": {
        "id": "ECw-7edPm4Pp",
        "outputId": "3eefdf73-bde9-4fb7-bef8-03424790a333",
        "colab": {
          "base_uri": "https://localhost:8080/"
        }
      },
      "execution_count": 18,
      "outputs": [
        {
          "output_type": "stream",
          "name": "stdout",
          "text": [
            "This is Asad's home\n"
          ]
        }
      ]
    },
    {
      "cell_type": "code",
      "source": [
        "greetings=(\"This is Asad\\ts home\")\n",
        "print(greetings)"
      ],
      "metadata": {
        "id": "IIUwV2U9oFz9",
        "outputId": "4dc3aa7a-d1db-42ed-fb57-803bfb3b6f86",
        "colab": {
          "base_uri": "https://localhost:8080/"
        }
      },
      "execution_count": 19,
      "outputs": [
        {
          "output_type": "stream",
          "name": "stdout",
          "text": [
            "This is Asad\ts home\n"
          ]
        }
      ]
    },
    {
      "cell_type": "code",
      "source": [
        "greetings=(\"This is Asad \\r home\")\n",
        "print(greetings)"
      ],
      "metadata": {
        "id": "QykYkgSuoObz",
        "outputId": "01e0060e-e144-418d-8e39-3427c30a02d9",
        "colab": {
          "base_uri": "https://localhost:8080/"
        }
      },
      "execution_count": 21,
      "outputs": [
        {
          "output_type": "stream",
          "name": "stdout",
          "text": [
            "This is Asad \r home\n"
          ]
        }
      ]
    },
    {
      "cell_type": "markdown",
      "source": [
        "# Type, dir, id function"
      ],
      "metadata": {
        "id": "rmunAw2zoono"
      }
    },
    {
      "cell_type": "code",
      "source": [
        "\n",
        "\n",
        "\n",
        "name =\"Asad\"\n",
        "#Type tell data type\n",
        "print(f\"type is :{type(name)}\")\n",
        "#dir tell  all methods(function)\n",
        "\n",
        "\n",
        "print(f\"dir is:{dir(name) }\")\n",
        "\n",
        "\n",
        "# id tells memory location\n",
        "print(f\"id is:{id(name) } \")"
      ],
      "metadata": {
        "id": "sJd7eO0rocB-",
        "outputId": "d1eaa9e6-c3fb-4a67-950d-2a2c134cf6b5",
        "colab": {
          "base_uri": "https://localhost:8080/"
        }
      },
      "execution_count": 28,
      "outputs": [
        {
          "output_type": "stream",
          "name": "stdout",
          "text": [
            "type is :<class 'str'>\n",
            "dir is:['__add__', '__class__', '__contains__', '__delattr__', '__dir__', '__doc__', '__eq__', '__format__', '__ge__', '__getattribute__', '__getitem__', '__getnewargs__', '__getstate__', '__gt__', '__hash__', '__init__', '__init_subclass__', '__iter__', '__le__', '__len__', '__lt__', '__mod__', '__mul__', '__ne__', '__new__', '__reduce__', '__reduce_ex__', '__repr__', '__rmod__', '__rmul__', '__setattr__', '__sizeof__', '__str__', '__subclasshook__', 'capitalize', 'casefold', 'center', 'count', 'encode', 'endswith', 'expandtabs', 'find', 'format', 'format_map', 'index', 'isalnum', 'isalpha', 'isascii', 'isdecimal', 'isdigit', 'isidentifier', 'islower', 'isnumeric', 'isprintable', 'isspace', 'istitle', 'isupper', 'join', 'ljust', 'lower', 'lstrip', 'maketrans', 'partition', 'removeprefix', 'removesuffix', 'replace', 'rfind', 'rindex', 'rjust', 'rpartition', 'rsplit', 'rstrip', 'split', 'splitlines', 'startswith', 'strip', 'swapcase', 'title', 'translate', 'upper', 'zfill']\n",
            "id is:133305320657136 \n"
          ]
        }
      ]
    },
    {
      "cell_type": "markdown",
      "source": [
        "#interning\n",
        "Apki memory me aik velue pari hui hai  ager ap aik or  veriable me  use karna chahty hain"
      ],
      "metadata": {
        "id": "J6q6d_70sqMM"
      }
    },
    {
      "cell_type": "code",
      "source": [
        "#Interning\n",
        "name_1=(\"asad\")\n",
        "name_2=(\"asad\")\n",
        "print(id(name_1))\n",
        "print(id(name_2))"
      ],
      "metadata": {
        "id": "rtVecy71rRV2",
        "outputId": "11bc31c4-ef63-4073-9e0e-73727ca40c38",
        "colab": {
          "base_uri": "https://localhost:8080/"
        }
      },
      "execution_count": 32,
      "outputs": [
        {
          "output_type": "stream",
          "name": "stdout",
          "text": [
            "133305320841200\n",
            "133305320841200\n"
          ]
        }
      ]
    },
    {
      "cell_type": "markdown",
      "source": [
        "#Muteable /immuteable\n",
        "Change able / can not be change\n",
        "Data types are muteable or immuteable"
      ],
      "metadata": {
        "id": "TCgjrgz4thcc"
      }
    },
    {
      "cell_type": "markdown",
      "source": [
        "#Immuteable\n",
        "String\n",
        "Bool\n",
        "Int\n",
        "Float\n",
        "Tuple\n",
        "\n",
        "#muteable\n",
        "List\n",
        "Dictionary\n",
        "Sets"
      ],
      "metadata": {
        "id": "6fDmKt0cuHNM"
      }
    },
    {
      "cell_type": "markdown",
      "source": [
        "#what are comments"
      ],
      "metadata": {
        "id": "0q7EK-Gwv9Fv"
      }
    },
    {
      "cell_type": "code",
      "source": [
        "\n",
        "\n",
        "#Immuteable String\n",
        "\n",
        "name=(\"asad\")\n",
        "print(id(name))\n",
        "name=(\"khan\")\n",
        "\n",
        "print(id(name))\n",
        "\n",
        "#mute able which can change like list set dictionary\n",
        "\n",
        "name_list=['asad', 'khan']\n",
        "print(name_list)\n",
        "print(id(name_list))\n",
        "\n",
        "name_list.append(\"rehan\")\n",
        "print(id(name_list))\n",
        "print(name_list)"
      ],
      "metadata": {
        "id": "IoPlbTbTts_g",
        "outputId": "32ba2423-c57d-48ad-da75-4cc9dc7664c9",
        "colab": {
          "base_uri": "https://localhost:8080/"
        }
      },
      "execution_count": 37,
      "outputs": [
        {
          "output_type": "stream",
          "name": "stdout",
          "text": [
            "133305320841200\n",
            "133305322371760\n",
            "['asad', 'khan']\n",
            "133305322305664\n",
            "133305322305664\n",
            "['asad', 'khan', 'rehan']\n"
          ]
        }
      ]
    },
    {
      "cell_type": "code",
      "source": [
        "#Comments are two types\n",
        "#1\n",
        "#And 2 is\"\"\"\n",
        "name=\"asad\"# and agy yaha comment hai\n",
        "#doc strings with triple qouts\n",
        "\"\"\"\n",
        "This is for\n",
        "Multiple line\n",
        "Comments ager  apka comment bara\n",
        "Ho jaye\n",
        "Or apko\n",
        "Ziada line use karna parhy toh\n",
        "Ap triple double \" \" \"Ko istemal kare gy\"\"\""
      ],
      "metadata": {
        "id": "cP0xSB88uCNv",
        "outputId": "a46241ae-01da-492a-ee44-79c9bd10b6e5",
        "colab": {
          "base_uri": "https://localhost:8080/",
          "height": 105
        }
      },
      "execution_count": 49,
      "outputs": [
        {
          "output_type": "execute_result",
          "data": {
            "text/plain": [
              "'\\nThis is for\\nMultiple line \\nComments ager  apka comment bara \\nHo jaye \\nOr apko \\nZiada line use karna parhy toh\\nAp triple double \" \" \"Ko istemal kare gy'"
            ],
            "application/vnd.google.colaboratory.intrinsic+json": {
              "type": "string"
            }
          },
          "metadata": {},
          "execution_count": 49
        }
      ]
    },
    {
      "cell_type": "markdown",
      "source": [
        "#List"
      ],
      "metadata": {
        "id": "SgGBx21L3GRD"
      }
    },
    {
      "cell_type": "code",
      "source": [
        "student_name=[\"asad\", \"rayan\", \"ali\", \"fatima\"]\n",
        "\n",
        "#we can acess through indexing\n",
        "print(student_name[0])\n",
        "\n",
        "#through silicing we can access last number of studets\n",
        "print(student_name[-1])\n",
        "#lenth of the students list\n",
        "print(len(student_name))"
      ],
      "metadata": {
        "id": "g7JUwq0byFN7",
        "outputId": "c064b797-8f93-4642-95d4-47dd33c6ec95",
        "colab": {
          "base_uri": "https://localhost:8080/"
        }
      },
      "execution_count": 55,
      "outputs": [
        {
          "output_type": "stream",
          "name": "stdout",
          "text": [
            "asad\n",
            "fatima\n",
            "4\n"
          ]
        }
      ]
    },
    {
      "cell_type": "code",
      "source": [
        "\n",
        "\n",
        "print(student_name)\n",
        "student_name.append(15)\n",
        "print(student_name)"
      ],
      "metadata": {
        "id": "-BVvneax4wWI",
        "outputId": "d8cb563d-5e9a-4b2b-f20a-92daf70a5d65",
        "colab": {
          "base_uri": "https://localhost:8080/"
        }
      },
      "execution_count": 63,
      "outputs": [
        {
          "output_type": "stream",
          "name": "stdout",
          "text": [
            "['asad', 'rayan', 'ali', 'fatima', 'faizan', 'faizan', 'faizan', 15]\n",
            "['asad', 'rayan', 'ali', 'fatima', 'faizan', 'faizan', 'faizan', 15, 15]\n"
          ]
        }
      ]
    },
    {
      "cell_type": "code",
      "source": [
        "#For adding on specific location\n",
        "\n",
        "student_name.insert(2,38) #for inserting on speccfic index we use insert\n",
        "print(student_name)"
      ],
      "metadata": {
        "id": "j5xO4UCj5sxH",
        "outputId": "812d0546-e111-41dc-fb70-b6c9f44726d6",
        "colab": {
          "base_uri": "https://localhost:8080/"
        }
      },
      "execution_count": 74,
      "outputs": [
        {
          "output_type": "stream",
          "name": "stdout",
          "text": [
            "['asad', 'rayan', 38, 38, 38, 38, 'ali', 'fatima']\n"
          ]
        }
      ]
    },
    {
      "cell_type": "code",
      "source": [
        "student_name.remove(\"faizan\")\n",
        "print(student_name)"
      ],
      "metadata": {
        "id": "wXIP7ZHQ6nhq",
        "outputId": "9e6f7d71-ad42-4344-8404-c6d9deab13ca",
        "colab": {
          "base_uri": "https://localhost:8080/"
        }
      },
      "execution_count": 68,
      "outputs": [
        {
          "output_type": "stream",
          "name": "stdout",
          "text": [
            "['asad', 'rayan', 38, 38, 38, 'ali', 'fatima', 'faizan', 'faizan', 15, 15]\n"
          ]
        }
      ]
    },
    {
      "cell_type": "code",
      "source": [
        "student_name.remove(38)\n",
        "print(student_name) #runes two times"
      ],
      "metadata": {
        "id": "Oh_fSxnk8Qgl",
        "outputId": "4078c638-e45a-437e-da32-8a85776c132f",
        "colab": {
          "base_uri": "https://localhost:8080/"
        }
      },
      "execution_count": 77,
      "outputs": [
        {
          "output_type": "stream",
          "name": "stdout",
          "text": [
            "['asad', 'rayan', 38, 38, 'ali', 'fatima']\n"
          ]
        }
      ]
    },
    {
      "cell_type": "code",
      "source": [
        "#pop  is use to remove last element on list and return value\n",
        "\n",
        "pooped_val = student_name.pop()\n",
        "print(pooped_val)\n",
        "print(student_name)"
      ],
      "metadata": {
        "id": "XmZwqBH667bO",
        "outputId": "3b500a79-8c4c-4107-e80f-795adbf4ae97",
        "colab": {
          "base_uri": "https://localhost:8080/"
        }
      },
      "execution_count": 73,
      "outputs": [
        {
          "output_type": "stream",
          "name": "stdout",
          "text": [
            "faizan\n",
            "['asad', 'rayan', 38, 38, 38, 'ali', 'fatima']\n"
          ]
        }
      ]
    },
    {
      "cell_type": "code",
      "source": [
        "print(student_name)"
      ],
      "metadata": {
        "id": "j3Xz6soB8JIB",
        "outputId": "4d1adfbb-95d6-4cfa-c0ef-9fe5f8ee434b",
        "colab": {
          "base_uri": "https://localhost:8080/"
        }
      },
      "execution_count": 78,
      "outputs": [
        {
          "output_type": "stream",
          "name": "stdout",
          "text": [
            "['asad', 'rayan', 38, 38, 'ali', 'fatima']\n"
          ]
        }
      ]
    },
    {
      "cell_type": "code",
      "source": [
        "pooped_val = student_name.pop(0) #while using index  numer we can  remove the desier number\n",
        "print(pooped_val)\n",
        "print(student_name)"
      ],
      "metadata": {
        "id": "9ZvOadWQ8tPi",
        "outputId": "69d878b4-3d28-4295-a099-43c2c9232a85",
        "colab": {
          "base_uri": "https://localhost:8080/"
        }
      },
      "execution_count": 79,
      "outputs": [
        {
          "output_type": "stream",
          "name": "stdout",
          "text": [
            "asad\n",
            "['rayan', 38, 38, 'ali', 'fatima']\n"
          ]
        }
      ]
    },
    {
      "cell_type": "markdown",
      "source": [
        "#Slicing"
      ],
      "metadata": {
        "id": "s4FjJLMt3Ezj"
      }
    },
    {
      "cell_type": "code",
      "source": [
        "teacher_name=[\"Rayan\",\"usmama\",\"wania\",\"Sirzia\"]\n",
        "print(teacher_name)"
      ],
      "metadata": {
        "id": "EeC8O33t9EW1",
        "outputId": "df2745ce-5639-4e5e-edfb-51de28f82c37",
        "colab": {
          "base_uri": "https://localhost:8080/"
        }
      },
      "execution_count": 81,
      "outputs": [
        {
          "output_type": "stream",
          "name": "stdout",
          "text": [
            "['Rayan', 'usmama', 'wania', 'Sirzia']\n"
          ]
        }
      ]
    },
    {
      "cell_type": "code",
      "source": [
        "new_teacher=teacher_name[1:4:2]\n",
        "new_teacher"
      ],
      "metadata": {
        "id": "jl3pbAaM-ESM",
        "outputId": "6bb4f898-ff5f-47be-ea02-bd732a00e441",
        "colab": {
          "base_uri": "https://localhost:8080/"
        }
      },
      "execution_count": 82,
      "outputs": [
        {
          "output_type": "execute_result",
          "data": {
            "text/plain": [
              "['usmama', 'Sirzia']"
            ]
          },
          "metadata": {},
          "execution_count": 82
        }
      ]
    },
    {
      "cell_type": "code",
      "source": [
        "first_teacher= teacher_name[0:3]\n",
        "first_teacher"
      ],
      "metadata": {
        "id": "SkneSW02-yEM",
        "outputId": "3a34f7fa-b238-4ed6-abbb-2c911181e62b",
        "colab": {
          "base_uri": "https://localhost:8080/"
        }
      },
      "execution_count": 84,
      "outputs": [
        {
          "output_type": "execute_result",
          "data": {
            "text/plain": [
              "['Rayan', 'usmama', 'wania']"
            ]
          },
          "metadata": {},
          "execution_count": 84
        }
      ]
    }
  ],
  "metadata": {
    "colab": {
      "name": "Welcome To Colab",
      "provenance": [],
      "include_colab_link": true
    },
    "kernelspec": {
      "display_name": "Python 3",
      "name": "python3"
    }
  },
  "nbformat": 4,
  "nbformat_minor": 0
}